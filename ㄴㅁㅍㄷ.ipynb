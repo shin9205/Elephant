{
 "cells": [
  {
   "cell_type": "code",
   "execution_count": 63,
   "metadata": {},
   "outputs": [],
   "source": [
    "## For data handling\n",
    "import pandas as pd\n",
    "import numpy as np\n",
    "\n",
    "## For plotting\n",
    "import matplotlib.pyplot as plt\n",
    "import seaborn as sns\n",
    "\n",
    "## This sets the plot style\n",
    "## to have a grid on a white background\n",
    "sns.set_style(\"whitegrid\")"
   ]
  },
  {
   "cell_type": "code",
   "execution_count": 64,
   "metadata": {
    "scrolled": true
   },
   "outputs": [],
   "source": [
    "RI_data = pd.read_csv('Root_Insurance_data.csv')"
   ]
  },
  {
   "cell_type": "code",
   "execution_count": 77,
   "metadata": {},
   "outputs": [
    {
     "name": "stdout",
     "output_type": "stream",
     "text": [
      "Item $0: Currently Insured\n",
      "Item $1: Number of Vehicles\n",
      "Item $2: Number of Drivers\n",
      "Item $3: Marital Status\n",
      "Item $4: bid\n",
      "Item $5: rank\n",
      "Item $6: click\n",
      "Item $7: policies_sold\n",
      "Item $8: Currently InsuredN\n",
      "Item $9: Currently InsuredY\n",
      "Item $10: Currently Insuredunknown\n",
      "Item $11: Number of Vehicles2\n",
      "Item $12: Number of Vehicles1\n",
      "Item $13: Number of Vehicles3\n",
      "Item $14: Number of Drivers1\n",
      "Item $15: Number of Drivers2\n",
      "Item $16: Marital StatusM\n",
      "Item $17: Marital StatusS\n"
     ]
    }
   ],
   "source": [
    "column_list = list(RI_data.columns)\n",
    "for i, col in enumerate(column_list):\n",
    "    print(\"Item ${}: {}\".format(i,col))"
   ]
  },
  {
   "cell_type": "code",
   "execution_count": 66,
   "metadata": {},
   "outputs": [
    {
     "name": "stdout",
     "output_type": "stream",
     "text": [
      "{'Currently Insured': ['N', 'Y', 'unknown'], 'Number of Vehicles': [2, 1, 3], 'Number of Drivers': [1, 2], 'Marital Status': ['M', 'S'], 'bid': [10], 'rank': [3, 5, 4, 1, 2], 'click': [False, True], 'policies_sold': [0, 1]}\n"
     ]
    }
   ],
   "source": [
    "cate_list = {}\n",
    "\n",
    "for column in column_list:\n",
    "    X = RI_data[column].value_counts()\n",
    "    cate_list[column] = list((X.index))\n",
    "    \n",
    "print(cate_list)"
   ]
  },
  {
   "cell_type": "code",
   "execution_count": 67,
   "metadata": {},
   "outputs": [],
   "source": [
    "for column in column_list[:4]:\n",
    "    for category in cate_list[column]:\n",
    "        RI_data[str(column)+str(category)] = pd.get_dummies(RI_data[column])[category]"
   ]
  },
  {
   "cell_type": "code",
   "execution_count": 68,
   "metadata": {},
   "outputs": [
    {
     "name": "stdout",
     "output_type": "stream",
     "text": [
      "Currently InsuredN Number of Vehicles2 Number of Drivers1 Marital StatusM\n",
      "False    248\n",
      "True      15\n",
      "Name: click, dtype: int64\n",
      "0    257\n",
      "1      6\n",
      "Name: policies_sold, dtype: int64\n",
      "Currently InsuredN Number of Vehicles2 Number of Drivers1 Marital StatusS\n",
      "False    256\n",
      "True      16\n",
      "Name: click, dtype: int64\n",
      "0    267\n",
      "1      5\n",
      "Name: policies_sold, dtype: int64\n",
      "Currently InsuredN Number of Vehicles2 Number of Drivers2 Marital StatusM\n",
      "False    263\n",
      "True      33\n",
      "Name: click, dtype: int64\n",
      "0    281\n",
      "1     15\n",
      "Name: policies_sold, dtype: int64\n",
      "Currently InsuredN Number of Vehicles2 Number of Drivers2 Marital StatusS\n",
      "False    284\n",
      "True      32\n",
      "Name: click, dtype: int64\n",
      "0    301\n",
      "1     15\n",
      "Name: policies_sold, dtype: int64\n",
      "Currently InsuredN Number of Vehicles1 Number of Drivers1 Marital StatusM\n",
      "False    275\n",
      "True      25\n",
      "Name: click, dtype: int64\n",
      "0    286\n",
      "1     14\n",
      "Name: policies_sold, dtype: int64\n",
      "Currently InsuredN Number of Vehicles1 Number of Drivers1 Marital StatusS\n",
      "False    228\n",
      "True      43\n",
      "Name: click, dtype: int64\n",
      "0    246\n",
      "1     25\n",
      "Name: policies_sold, dtype: int64\n",
      "Currently InsuredN Number of Vehicles1 Number of Drivers2 Marital StatusM\n",
      "False    201\n",
      "True      74\n",
      "Name: click, dtype: int64\n",
      "0    244\n",
      "1     31\n",
      "Name: policies_sold, dtype: int64\n",
      "Currently InsuredN Number of Vehicles1 Number of Drivers2 Marital StatusS\n",
      "False    204\n",
      "True      79\n",
      "Name: click, dtype: int64\n",
      "0    251\n",
      "1     32\n",
      "Name: policies_sold, dtype: int64\n",
      "Currently InsuredN Number of Vehicles3 Number of Drivers1 Marital StatusM\n",
      "False    250\n",
      "True      15\n",
      "Name: click, dtype: int64\n",
      "0    256\n",
      "1      9\n",
      "Name: policies_sold, dtype: int64\n",
      "Currently InsuredN Number of Vehicles3 Number of Drivers1 Marital StatusS\n",
      "False    264\n",
      "True      22\n",
      "Name: click, dtype: int64\n",
      "0    278\n",
      "1      8\n",
      "Name: policies_sold, dtype: int64\n",
      "Currently InsuredN Number of Vehicles3 Number of Drivers2 Marital StatusM\n",
      "False    305\n",
      "True      21\n",
      "Name: click, dtype: int64\n",
      "0    315\n",
      "1     11\n",
      "Name: policies_sold, dtype: int64\n",
      "Currently InsuredN Number of Vehicles3 Number of Drivers2 Marital StatusS\n",
      "False    278\n",
      "True      13\n",
      "Name: click, dtype: int64\n",
      "0    288\n",
      "1      3\n",
      "Name: policies_sold, dtype: int64\n",
      "Currently InsuredY Number of Vehicles2 Number of Drivers1 Marital StatusM\n",
      "False    265\n",
      "True      19\n",
      "Name: click, dtype: int64\n",
      "0    278\n",
      "1      6\n",
      "Name: policies_sold, dtype: int64\n",
      "Currently InsuredY Number of Vehicles2 Number of Drivers1 Marital StatusS\n",
      "False    251\n",
      "True      15\n",
      "Name: click, dtype: int64\n",
      "0    262\n",
      "1      4\n",
      "Name: policies_sold, dtype: int64\n",
      "Currently InsuredY Number of Vehicles2 Number of Drivers2 Marital StatusM\n",
      "False    296\n",
      "True      21\n",
      "Name: click, dtype: int64\n",
      "0    309\n",
      "1      8\n",
      "Name: policies_sold, dtype: int64\n",
      "Currently InsuredY Number of Vehicles2 Number of Drivers2 Marital StatusS\n",
      "False    288\n",
      "True      16\n",
      "Name: click, dtype: int64\n",
      "0    301\n",
      "1      3\n",
      "Name: policies_sold, dtype: int64\n",
      "Currently InsuredY Number of Vehicles1 Number of Drivers1 Marital StatusM\n",
      "False    237\n",
      "True      37\n",
      "Name: click, dtype: int64\n",
      "0    263\n",
      "1     11\n",
      "Name: policies_sold, dtype: int64\n",
      "Currently InsuredY Number of Vehicles1 Number of Drivers1 Marital StatusS\n",
      "False    212\n",
      "True      78\n",
      "Name: click, dtype: int64\n",
      "0    252\n",
      "1     38\n",
      "Name: policies_sold, dtype: int64\n",
      "Currently InsuredY Number of Vehicles1 Number of Drivers2 Marital StatusM\n",
      "False    219\n",
      "True      76\n",
      "Name: click, dtype: int64\n",
      "0    271\n",
      "1     24\n",
      "Name: policies_sold, dtype: int64\n",
      "Currently InsuredY Number of Vehicles1 Number of Drivers2 Marital StatusS\n",
      "False    205\n",
      "True      77\n",
      "Name: click, dtype: int64\n",
      "0    258\n",
      "1     24\n",
      "Name: policies_sold, dtype: int64\n",
      "Currently InsuredY Number of Vehicles3 Number of Drivers1 Marital StatusM\n",
      "False    273\n",
      "True      21\n",
      "Name: click, dtype: int64\n",
      "0    290\n",
      "1      4\n",
      "Name: policies_sold, dtype: int64\n",
      "Currently InsuredY Number of Vehicles3 Number of Drivers1 Marital StatusS\n",
      "False    243\n",
      "True      24\n",
      "Name: click, dtype: int64\n",
      "0    262\n",
      "1      5\n",
      "Name: policies_sold, dtype: int64\n",
      "Currently InsuredY Number of Vehicles3 Number of Drivers2 Marital StatusM\n",
      "False    258\n",
      "True      18\n",
      "Name: click, dtype: int64\n",
      "0    274\n",
      "1      2\n",
      "Name: policies_sold, dtype: int64\n",
      "Currently InsuredY Number of Vehicles3 Number of Drivers2 Marital StatusS\n",
      "False    259\n",
      "True      11\n",
      "Name: click, dtype: int64\n",
      "0    266\n",
      "1      4\n",
      "Name: policies_sold, dtype: int64\n",
      "Currently Insuredunknown Number of Vehicles2 Number of Drivers1 Marital StatusM\n",
      "False    184\n",
      "True      84\n",
      "Name: click, dtype: int64\n",
      "0    227\n",
      "1     41\n",
      "Name: policies_sold, dtype: int64\n",
      "Currently Insuredunknown Number of Vehicles2 Number of Drivers1 Marital StatusS\n",
      "False    176\n",
      "True     108\n",
      "Name: click, dtype: int64\n",
      "0    240\n",
      "1     44\n",
      "Name: policies_sold, dtype: int64\n",
      "Currently Insuredunknown Number of Vehicles2 Number of Drivers2 Marital StatusM\n",
      "False    212\n",
      "True      94\n",
      "Name: click, dtype: int64\n",
      "0    280\n",
      "1     26\n",
      "Name: policies_sold, dtype: int64\n",
      "Currently Insuredunknown Number of Vehicles2 Number of Drivers2 Marital StatusS\n",
      "False    178\n",
      "True     110\n",
      "Name: click, dtype: int64\n",
      "0    246\n",
      "1     42\n",
      "Name: policies_sold, dtype: int64\n",
      "Currently Insuredunknown Number of Vehicles1 Number of Drivers1 Marital StatusM\n",
      "False    182\n",
      "True     112\n",
      "Name: click, dtype: int64\n",
      "0    235\n",
      "1     59\n",
      "Name: policies_sold, dtype: int64\n",
      "Currently Insuredunknown Number of Vehicles1 Number of Drivers1 Marital StatusS\n",
      "False    153\n",
      "True     127\n",
      "Name: click, dtype: int64\n",
      "0    211\n",
      "1     69\n",
      "Name: policies_sold, dtype: int64\n",
      "Currently Insuredunknown Number of Vehicles1 Number of Drivers2 Marital StatusM\n",
      "False    189\n",
      "True     105\n",
      "Name: click, dtype: int64\n",
      "0    237\n",
      "1     57\n",
      "Name: policies_sold, dtype: int64\n",
      "Currently Insuredunknown Number of Vehicles1 Number of Drivers2 Marital StatusS\n",
      "False    175\n",
      "True     128\n",
      "Name: click, dtype: int64\n",
      "0    248\n",
      "1     55\n",
      "Name: policies_sold, dtype: int64\n",
      "Currently Insuredunknown Number of Vehicles3 Number of Drivers1 Marital StatusM\n",
      "False    218\n",
      "True      69\n",
      "Name: click, dtype: int64\n",
      "0    262\n",
      "1     25\n",
      "Name: policies_sold, dtype: int64\n",
      "Currently Insuredunknown Number of Vehicles3 Number of Drivers1 Marital StatusS\n",
      "False    189\n",
      "True      67\n",
      "Name: click, dtype: int64\n",
      "0    230\n",
      "1     26\n",
      "Name: policies_sold, dtype: int64\n",
      "Currently Insuredunknown Number of Vehicles3 Number of Drivers2 Marital StatusM\n",
      "False    204\n",
      "True      73\n",
      "Name: click, dtype: int64\n",
      "0    245\n",
      "1     32\n",
      "Name: policies_sold, dtype: int64\n",
      "Currently Insuredunknown Number of Vehicles3 Number of Drivers2 Marital StatusS\n",
      "Series([], Name: click, dtype: int64)\n",
      "Series([], Name: policies_sold, dtype: int64)\n"
     ]
    }
   ],
   "source": [
    "dums = list(RI_data.columns)[8:]\n",
    "cratios = []\n",
    "sratios = []\n",
    "for i in range(3):\n",
    "    for i1 in range(3,6):\n",
    "        for i2 in range(6,8):\n",
    "            for i3 in range(8,10):\n",
    "               print(dums[i], dums[i1], dums[i2], dums[i3])\n",
    "               data_temp = RI_data.loc[(RI_data[dums[i]]==1) & (RI_data[dums[i1]]==1)& (RI_data[dums[i2]]==1)& (RI_data[dums[i3]]==1), ['rank','click','policies_sold']]\n",
    "               click = data_temp['click'].value_counts()\n",
    "               print(click)\n",
    "               sold = data_temp['policies_sold'].value_counts()\n",
    "               print(sold)\n",
    "               if len(click)==2:\n",
    "                    click_ratio = click[1]/(click[1]+click[0])\n",
    "               if len(sold)==2:\n",
    "                    sold_ratio = sold[1]/click[1]\n",
    "               cratios.append(click_ratio)\n",
    "               sratios.append(sold_ratio)\n",
    "       \n"
   ]
  },
  {
   "cell_type": "code",
   "execution_count": 69,
   "metadata": {},
   "outputs": [
    {
     "data": {
      "text/plain": [
       "<matplotlib.collections.PathCollection at 0x7fc5281c8340>"
      ]
     },
     "execution_count": 69,
     "metadata": {},
     "output_type": "execute_result"
    },
    {
     "data": {
      "image/png": "[encoded data removed]",
      "text/plain": [
       "<Figure size 432x288 with 1 Axes>"
      ]
     },
     "metadata": {},
     "output_type": "display_data"
    }
   ],
   "source": [
    "plt.scatter(cratios, sratios)"
   ]
  },
  {
   "cell_type": "markdown",
   "metadata": {},
   "source": [
    "# end here"
   ]
  },
  {
   "cell_type": "code",
   "execution_count": 103,
   "metadata": {},
   "outputs": [
    {
     "data": {
      "text/plain": [
       "'click'"
      ]
     },
     "execution_count": 103,
     "metadata": {},
     "output_type": "execute_result"
    }
   ],
   "source": [
    "type_list = list(RI_data.columns)\n",
    "type_list.pop(-1)\n",
    "type_list.pop(-1)"
   ]
  },
  {
   "cell_type": "code",
   "execution_count": 70,
   "metadata": {},
   "outputs": [
    {
     "data": {
      "text/plain": [
       "0.0783"
      ]
     },
     "execution_count": 70,
     "metadata": {},
     "output_type": "execute_result"
    }
   ],
   "source": [
    "a = RI_data['policies_sold'].value_counts()\n",
    "a[1]/(a[0]+a[1])"
   ]
  },
  {
   "cell_type": "code",
   "execution_count": 71,
   "metadata": {},
   "outputs": [
    {
     "data": {
      "text/plain": [
       "0.4169329073482428"
      ]
     },
     "execution_count": 71,
     "metadata": {},
     "output_type": "execute_result"
    }
   ],
   "source": [
    "a = RI_data.loc[RI_data['click'] == True, 'policies_sold'].value_counts()\n",
    "a[1]/(a[0]+a[1])"
   ]
  },
  {
   "cell_type": "code",
   "execution_count": 72,
   "metadata": {},
   "outputs": [
    {
     "ename": "KeyError",
     "evalue": "1",
     "output_type": "error",
     "traceback": [
      "\u001b[0;31m---------------------------------------------------------------------------\u001b[0m",
      "\u001b[0;31mKeyError\u001b[0m                                  Traceback (most recent call last)",
      "\u001b[0;32m~/opt/anaconda3/lib/python3.8/site-packages/pandas/core/indexes/base.py\u001b[0m in \u001b[0;36mget_loc\u001b[0;34m(self, key, method, tolerance)\u001b[0m\n\u001b[1;32m   2894\u001b[0m             \u001b[0;32mtry\u001b[0m\u001b[0;34m:\u001b[0m\u001b[0;34m\u001b[0m\u001b[0;34m\u001b[0m\u001b[0m\n\u001b[0;32m-> 2895\u001b[0;31m                 \u001b[0;32mreturn\u001b[0m \u001b[0mself\u001b[0m\u001b[0;34m.\u001b[0m\u001b[0m_engine\u001b[0m\u001b[0;34m.\u001b[0m\u001b[0mget_loc\u001b[0m\u001b[0;34m(\u001b[0m\u001b[0mcasted_key\u001b[0m\u001b[0;34m)\u001b[0m\u001b[0;34m\u001b[0m\u001b[0;34m\u001b[0m\u001b[0m\n\u001b[0m\u001b[1;32m   2896\u001b[0m             \u001b[0;32mexcept\u001b[0m \u001b[0mKeyError\u001b[0m \u001b[0;32mas\u001b[0m \u001b[0merr\u001b[0m\u001b[0;34m:\u001b[0m\u001b[0;34m\u001b[0m\u001b[0;34m\u001b[0m\u001b[0m\n",
      "\u001b[0;32mpandas/_libs/index.pyx\u001b[0m in \u001b[0;36mpandas._libs.index.IndexEngine.get_loc\u001b[0;34m()\u001b[0m\n",
      "\u001b[0;32mpandas/_libs/index.pyx\u001b[0m in \u001b[0;36mpandas._libs.index.IndexEngine.get_loc\u001b[0;34m()\u001b[0m\n",
      "\u001b[0;32mpandas/_libs/hashtable_class_helper.pxi\u001b[0m in \u001b[0;36mpandas._libs.hashtable.Int64HashTable.get_item\u001b[0;34m()\u001b[0m\n",
      "\u001b[0;32mpandas/_libs/hashtable_class_helper.pxi\u001b[0m in \u001b[0;36mpandas._libs.hashtable.Int64HashTable.get_item\u001b[0;34m()\u001b[0m\n",
      "\u001b[0;31mKeyError\u001b[0m: 1",
      "\nThe above exception was the direct cause of the following exception:\n",
      "\u001b[0;31mKeyError\u001b[0m                                  Traceback (most recent call last)",
      "\u001b[0;32m<ipython-input-72-2d14d72d8df5>\u001b[0m in \u001b[0;36m<module>\u001b[0;34m\u001b[0m\n\u001b[1;32m      6\u001b[0m     \u001b[0;32mfor\u001b[0m \u001b[0mindex\u001b[0m \u001b[0;32min\u001b[0m \u001b[0mY\u001b[0m\u001b[0;34m:\u001b[0m\u001b[0;34m\u001b[0m\u001b[0;34m\u001b[0m\u001b[0m\n\u001b[1;32m      7\u001b[0m         \u001b[0ma\u001b[0m \u001b[0;34m=\u001b[0m \u001b[0mRI_data\u001b[0m\u001b[0;34m.\u001b[0m\u001b[0mloc\u001b[0m\u001b[0;34m[\u001b[0m\u001b[0mRI_data\u001b[0m\u001b[0;34m[\u001b[0m\u001b[0mtypes\u001b[0m\u001b[0;34m]\u001b[0m\u001b[0;34m==\u001b[0m\u001b[0mindex\u001b[0m\u001b[0;34m,\u001b[0m \u001b[0;34m'policies_sold'\u001b[0m \u001b[0;34m]\u001b[0m\u001b[0;34m.\u001b[0m\u001b[0mvalue_counts\u001b[0m\u001b[0;34m(\u001b[0m\u001b[0;34m)\u001b[0m\u001b[0;34m\u001b[0m\u001b[0;34m\u001b[0m\u001b[0m\n\u001b[0;32m----> 8\u001b[0;31m         \u001b[0mb\u001b[0m \u001b[0;34m=\u001b[0m \u001b[0ma\u001b[0m\u001b[0;34m[\u001b[0m\u001b[0;36m1\u001b[0m\u001b[0;34m]\u001b[0m\u001b[0;34m/\u001b[0m\u001b[0;34m(\u001b[0m\u001b[0ma\u001b[0m\u001b[0;34m[\u001b[0m\u001b[0;36m0\u001b[0m\u001b[0;34m]\u001b[0m\u001b[0;34m+\u001b[0m\u001b[0ma\u001b[0m\u001b[0;34m[\u001b[0m\u001b[0;36m1\u001b[0m\u001b[0;34m]\u001b[0m\u001b[0;34m)\u001b[0m\u001b[0;34m\u001b[0m\u001b[0;34m\u001b[0m\u001b[0m\n\u001b[0m\u001b[1;32m      9\u001b[0m         \u001b[0mtypes_dic\u001b[0m\u001b[0;34m[\u001b[0m\u001b[0mindex\u001b[0m\u001b[0;34m]\u001b[0m \u001b[0;34m=\u001b[0m \u001b[0mb\u001b[0m\u001b[0;34m\u001b[0m\u001b[0;34m\u001b[0m\u001b[0m\n\u001b[1;32m     10\u001b[0m     \u001b[0mresult\u001b[0m\u001b[0;34m.\u001b[0m\u001b[0mappend\u001b[0m\u001b[0;34m(\u001b[0m\u001b[0mtypes_dic\u001b[0m\u001b[0;34m)\u001b[0m\u001b[0;34m\u001b[0m\u001b[0;34m\u001b[0m\u001b[0m\n",
      "\u001b[0;32m~/opt/anaconda3/lib/python3.8/site-packages/pandas/core/series.py\u001b[0m in \u001b[0;36m__getitem__\u001b[0;34m(self, key)\u001b[0m\n\u001b[1;32m    880\u001b[0m \u001b[0;34m\u001b[0m\u001b[0m\n\u001b[1;32m    881\u001b[0m         \u001b[0;32melif\u001b[0m \u001b[0mkey_is_scalar\u001b[0m\u001b[0;34m:\u001b[0m\u001b[0;34m\u001b[0m\u001b[0;34m\u001b[0m\u001b[0m\n\u001b[0;32m--> 882\u001b[0;31m             \u001b[0;32mreturn\u001b[0m \u001b[0mself\u001b[0m\u001b[0;34m.\u001b[0m\u001b[0m_get_value\u001b[0m\u001b[0;34m(\u001b[0m\u001b[0mkey\u001b[0m\u001b[0;34m)\u001b[0m\u001b[0;34m\u001b[0m\u001b[0;34m\u001b[0m\u001b[0m\n\u001b[0m\u001b[1;32m    883\u001b[0m \u001b[0;34m\u001b[0m\u001b[0m\n\u001b[1;32m    884\u001b[0m         \u001b[0;32mif\u001b[0m \u001b[0mis_hashable\u001b[0m\u001b[0;34m(\u001b[0m\u001b[0mkey\u001b[0m\u001b[0;34m)\u001b[0m\u001b[0;34m:\u001b[0m\u001b[0;34m\u001b[0m\u001b[0;34m\u001b[0m\u001b[0m\n",
      "\u001b[0;32m~/opt/anaconda3/lib/python3.8/site-packages/pandas/core/series.py\u001b[0m in \u001b[0;36m_get_value\u001b[0;34m(self, label, takeable)\u001b[0m\n\u001b[1;32m    987\u001b[0m \u001b[0;34m\u001b[0m\u001b[0m\n\u001b[1;32m    988\u001b[0m         \u001b[0;31m# Similar to Index.get_value, but we do not fall back to positional\u001b[0m\u001b[0;34m\u001b[0m\u001b[0;34m\u001b[0m\u001b[0;34m\u001b[0m\u001b[0m\n\u001b[0;32m--> 989\u001b[0;31m         \u001b[0mloc\u001b[0m \u001b[0;34m=\u001b[0m \u001b[0mself\u001b[0m\u001b[0;34m.\u001b[0m\u001b[0mindex\u001b[0m\u001b[0;34m.\u001b[0m\u001b[0mget_loc\u001b[0m\u001b[0;34m(\u001b[0m\u001b[0mlabel\u001b[0m\u001b[0;34m)\u001b[0m\u001b[0;34m\u001b[0m\u001b[0;34m\u001b[0m\u001b[0m\n\u001b[0m\u001b[1;32m    990\u001b[0m         \u001b[0;32mreturn\u001b[0m \u001b[0mself\u001b[0m\u001b[0;34m.\u001b[0m\u001b[0mindex\u001b[0m\u001b[0;34m.\u001b[0m\u001b[0m_get_values_for_loc\u001b[0m\u001b[0;34m(\u001b[0m\u001b[0mself\u001b[0m\u001b[0;34m,\u001b[0m \u001b[0mloc\u001b[0m\u001b[0;34m,\u001b[0m \u001b[0mlabel\u001b[0m\u001b[0;34m)\u001b[0m\u001b[0;34m\u001b[0m\u001b[0;34m\u001b[0m\u001b[0m\n\u001b[1;32m    991\u001b[0m \u001b[0;34m\u001b[0m\u001b[0m\n",
      "\u001b[0;32m~/opt/anaconda3/lib/python3.8/site-packages/pandas/core/indexes/base.py\u001b[0m in \u001b[0;36mget_loc\u001b[0;34m(self, key, method, tolerance)\u001b[0m\n\u001b[1;32m   2895\u001b[0m                 \u001b[0;32mreturn\u001b[0m \u001b[0mself\u001b[0m\u001b[0;34m.\u001b[0m\u001b[0m_engine\u001b[0m\u001b[0;34m.\u001b[0m\u001b[0mget_loc\u001b[0m\u001b[0;34m(\u001b[0m\u001b[0mcasted_key\u001b[0m\u001b[0;34m)\u001b[0m\u001b[0;34m\u001b[0m\u001b[0;34m\u001b[0m\u001b[0m\n\u001b[1;32m   2896\u001b[0m             \u001b[0;32mexcept\u001b[0m \u001b[0mKeyError\u001b[0m \u001b[0;32mas\u001b[0m \u001b[0merr\u001b[0m\u001b[0;34m:\u001b[0m\u001b[0;34m\u001b[0m\u001b[0;34m\u001b[0m\u001b[0m\n\u001b[0;32m-> 2897\u001b[0;31m                 \u001b[0;32mraise\u001b[0m \u001b[0mKeyError\u001b[0m\u001b[0;34m(\u001b[0m\u001b[0mkey\u001b[0m\u001b[0;34m)\u001b[0m \u001b[0;32mfrom\u001b[0m \u001b[0merr\u001b[0m\u001b[0;34m\u001b[0m\u001b[0;34m\u001b[0m\u001b[0m\n\u001b[0m\u001b[1;32m   2898\u001b[0m \u001b[0;34m\u001b[0m\u001b[0m\n\u001b[1;32m   2899\u001b[0m         \u001b[0;32mif\u001b[0m \u001b[0mtolerance\u001b[0m \u001b[0;32mis\u001b[0m \u001b[0;32mnot\u001b[0m \u001b[0;32mNone\u001b[0m\u001b[0;34m:\u001b[0m\u001b[0;34m\u001b[0m\u001b[0;34m\u001b[0m\u001b[0m\n",
      "\u001b[0;31mKeyError\u001b[0m: 1"
     ]
    }
   ],
   "source": [
    "result = []\n",
    "for types in type_list:\n",
    "    types_dic = {}\n",
    "    X = RI_data[types].value_counts()\n",
    "    Y = list(X.index)\n",
    "    for index in Y:\n",
    "        a = RI_data.loc[RI_data[types]==index, 'policies_sold' ].value_counts()\n",
    "        b = a[1]/(a[0]+a[1])\n",
    "        types_dic[index] = b\n",
    "    result.append(types_dic)\n",
    "print(result)"
   ]
  },
  {
   "cell_type": "code",
   "execution_count": 62,
   "metadata": {},
   "outputs": [
    {
     "ename": "KeyError",
     "evalue": "1",
     "output_type": "error",
     "traceback": [
      "\u001b[0;31m---------------------------------------------------------------------------\u001b[0m",
      "\u001b[0;31mKeyError\u001b[0m                                  Traceback (most recent call last)",
      "\u001b[0;32m~/opt/anaconda3/lib/python3.8/site-packages/pandas/core/indexes/base.py\u001b[0m in \u001b[0;36mget_loc\u001b[0;34m(self, key, method, tolerance)\u001b[0m\n\u001b[1;32m   2894\u001b[0m             \u001b[0;32mtry\u001b[0m\u001b[0;34m:\u001b[0m\u001b[0;34m\u001b[0m\u001b[0;34m\u001b[0m\u001b[0m\n\u001b[0;32m-> 2895\u001b[0;31m                 \u001b[0;32mreturn\u001b[0m \u001b[0mself\u001b[0m\u001b[0;34m.\u001b[0m\u001b[0m_engine\u001b[0m\u001b[0;34m.\u001b[0m\u001b[0mget_loc\u001b[0m\u001b[0;34m(\u001b[0m\u001b[0mcasted_key\u001b[0m\u001b[0;34m)\u001b[0m\u001b[0;34m\u001b[0m\u001b[0;34m\u001b[0m\u001b[0m\n\u001b[0m\u001b[1;32m   2896\u001b[0m             \u001b[0;32mexcept\u001b[0m \u001b[0mKeyError\u001b[0m \u001b[0;32mas\u001b[0m \u001b[0merr\u001b[0m\u001b[0;34m:\u001b[0m\u001b[0;34m\u001b[0m\u001b[0;34m\u001b[0m\u001b[0m\n",
      "\u001b[0;32mpandas/_libs/index.pyx\u001b[0m in \u001b[0;36mpandas._libs.index.IndexEngine.get_loc\u001b[0;34m()\u001b[0m\n",
      "\u001b[0;32mpandas/_libs/index.pyx\u001b[0m in \u001b[0;36mpandas._libs.index.IndexEngine.get_loc\u001b[0;34m()\u001b[0m\n",
      "\u001b[0;32mpandas/_libs/hashtable_class_helper.pxi\u001b[0m in \u001b[0;36mpandas._libs.hashtable.PyObjectHashTable.get_item\u001b[0;34m()\u001b[0m\n",
      "\u001b[0;32mpandas/_libs/hashtable_class_helper.pxi\u001b[0m in \u001b[0;36mpandas._libs.hashtable.PyObjectHashTable.get_item\u001b[0;34m()\u001b[0m\n",
      "\u001b[0;31mKeyError\u001b[0m: 1",
      "\nThe above exception was the direct cause of the following exception:\n",
      "\u001b[0;31mKeyError\u001b[0m                                  Traceback (most recent call last)",
      "\u001b[0;32m<ipython-input-62-4d93e1e832e3>\u001b[0m in \u001b[0;36m<module>\u001b[0;34m\u001b[0m\n\u001b[1;32m      6\u001b[0m    \u001b[0;32mfor\u001b[0m \u001b[0mindex\u001b[0m \u001b[0;32min\u001b[0m \u001b[0mY\u001b[0m\u001b[0;34m:\u001b[0m\u001b[0;34m\u001b[0m\u001b[0;34m\u001b[0m\u001b[0m\n\u001b[1;32m      7\u001b[0m        \u001b[0ma\u001b[0m \u001b[0;34m=\u001b[0m \u001b[0mRI_data\u001b[0m\u001b[0;34m.\u001b[0m\u001b[0mloc\u001b[0m\u001b[0;34m[\u001b[0m\u001b[0mRI_data\u001b[0m\u001b[0;34m[\u001b[0m\u001b[0mtypes\u001b[0m\u001b[0;34m]\u001b[0m\u001b[0;34m==\u001b[0m\u001b[0mindex\u001b[0m\u001b[0;34m,\u001b[0m \u001b[0;34m'click'\u001b[0m \u001b[0;34m]\u001b[0m\u001b[0;34m.\u001b[0m\u001b[0mvalue_counts\u001b[0m\u001b[0;34m(\u001b[0m\u001b[0;34m)\u001b[0m\u001b[0;34m\u001b[0m\u001b[0;34m\u001b[0m\u001b[0m\n\u001b[0;32m----> 8\u001b[0;31m        \u001b[0mb\u001b[0m \u001b[0;34m=\u001b[0m \u001b[0ma\u001b[0m\u001b[0;34m[\u001b[0m\u001b[0;36m1\u001b[0m\u001b[0;34m]\u001b[0m\u001b[0;34m/\u001b[0m\u001b[0;34m(\u001b[0m\u001b[0ma\u001b[0m\u001b[0;34m[\u001b[0m\u001b[0;36m0\u001b[0m\u001b[0;34m]\u001b[0m\u001b[0;34m+\u001b[0m\u001b[0ma\u001b[0m\u001b[0;34m[\u001b[0m\u001b[0;36m1\u001b[0m\u001b[0;34m]\u001b[0m\u001b[0;34m)\u001b[0m\u001b[0;34m\u001b[0m\u001b[0;34m\u001b[0m\u001b[0m\n\u001b[0m\u001b[1;32m      9\u001b[0m        \u001b[0mtypes_dic\u001b[0m\u001b[0;34m[\u001b[0m\u001b[0mindex\u001b[0m\u001b[0;34m]\u001b[0m \u001b[0;34m=\u001b[0m \u001b[0mb\u001b[0m\u001b[0;34m\u001b[0m\u001b[0;34m\u001b[0m\u001b[0m\n\u001b[1;32m     10\u001b[0m    \u001b[0mresult\u001b[0m\u001b[0;34m.\u001b[0m\u001b[0mappend\u001b[0m\u001b[0;34m(\u001b[0m\u001b[0mtypes_dic\u001b[0m\u001b[0;34m)\u001b[0m\u001b[0;34m\u001b[0m\u001b[0;34m\u001b[0m\u001b[0m\n",
      "\u001b[0;32m~/opt/anaconda3/lib/python3.8/site-packages/pandas/core/series.py\u001b[0m in \u001b[0;36m__getitem__\u001b[0;34m(self, key)\u001b[0m\n\u001b[1;32m    880\u001b[0m \u001b[0;34m\u001b[0m\u001b[0m\n\u001b[1;32m    881\u001b[0m         \u001b[0;32melif\u001b[0m \u001b[0mkey_is_scalar\u001b[0m\u001b[0;34m:\u001b[0m\u001b[0;34m\u001b[0m\u001b[0;34m\u001b[0m\u001b[0m\n\u001b[0;32m--> 882\u001b[0;31m             \u001b[0;32mreturn\u001b[0m \u001b[0mself\u001b[0m\u001b[0;34m.\u001b[0m\u001b[0m_get_value\u001b[0m\u001b[0;34m(\u001b[0m\u001b[0mkey\u001b[0m\u001b[0;34m)\u001b[0m\u001b[0;34m\u001b[0m\u001b[0;34m\u001b[0m\u001b[0m\n\u001b[0m\u001b[1;32m    883\u001b[0m \u001b[0;34m\u001b[0m\u001b[0m\n\u001b[1;32m    884\u001b[0m         \u001b[0;32mif\u001b[0m \u001b[0mis_hashable\u001b[0m\u001b[0;34m(\u001b[0m\u001b[0mkey\u001b[0m\u001b[0;34m)\u001b[0m\u001b[0;34m:\u001b[0m\u001b[0;34m\u001b[0m\u001b[0;34m\u001b[0m\u001b[0m\n",
      "\u001b[0;32m~/opt/anaconda3/lib/python3.8/site-packages/pandas/core/series.py\u001b[0m in \u001b[0;36m_get_value\u001b[0;34m(self, label, takeable)\u001b[0m\n\u001b[1;32m    987\u001b[0m \u001b[0;34m\u001b[0m\u001b[0m\n\u001b[1;32m    988\u001b[0m         \u001b[0;31m# Similar to Index.get_value, but we do not fall back to positional\u001b[0m\u001b[0;34m\u001b[0m\u001b[0;34m\u001b[0m\u001b[0;34m\u001b[0m\u001b[0m\n\u001b[0;32m--> 989\u001b[0;31m         \u001b[0mloc\u001b[0m \u001b[0;34m=\u001b[0m \u001b[0mself\u001b[0m\u001b[0;34m.\u001b[0m\u001b[0mindex\u001b[0m\u001b[0;34m.\u001b[0m\u001b[0mget_loc\u001b[0m\u001b[0;34m(\u001b[0m\u001b[0mlabel\u001b[0m\u001b[0;34m)\u001b[0m\u001b[0;34m\u001b[0m\u001b[0;34m\u001b[0m\u001b[0m\n\u001b[0m\u001b[1;32m    990\u001b[0m         \u001b[0;32mreturn\u001b[0m \u001b[0mself\u001b[0m\u001b[0;34m.\u001b[0m\u001b[0mindex\u001b[0m\u001b[0;34m.\u001b[0m\u001b[0m_get_values_for_loc\u001b[0m\u001b[0;34m(\u001b[0m\u001b[0mself\u001b[0m\u001b[0;34m,\u001b[0m \u001b[0mloc\u001b[0m\u001b[0;34m,\u001b[0m \u001b[0mlabel\u001b[0m\u001b[0;34m)\u001b[0m\u001b[0;34m\u001b[0m\u001b[0;34m\u001b[0m\u001b[0m\n\u001b[1;32m    991\u001b[0m \u001b[0;34m\u001b[0m\u001b[0m\n",
      "\u001b[0;32m~/opt/anaconda3/lib/python3.8/site-packages/pandas/core/indexes/base.py\u001b[0m in \u001b[0;36mget_loc\u001b[0;34m(self, key, method, tolerance)\u001b[0m\n\u001b[1;32m   2895\u001b[0m                 \u001b[0;32mreturn\u001b[0m \u001b[0mself\u001b[0m\u001b[0;34m.\u001b[0m\u001b[0m_engine\u001b[0m\u001b[0;34m.\u001b[0m\u001b[0mget_loc\u001b[0m\u001b[0;34m(\u001b[0m\u001b[0mcasted_key\u001b[0m\u001b[0;34m)\u001b[0m\u001b[0;34m\u001b[0m\u001b[0;34m\u001b[0m\u001b[0m\n\u001b[1;32m   2896\u001b[0m             \u001b[0;32mexcept\u001b[0m \u001b[0mKeyError\u001b[0m \u001b[0;32mas\u001b[0m \u001b[0merr\u001b[0m\u001b[0;34m:\u001b[0m\u001b[0;34m\u001b[0m\u001b[0;34m\u001b[0m\u001b[0m\n\u001b[0;32m-> 2897\u001b[0;31m                 \u001b[0;32mraise\u001b[0m \u001b[0mKeyError\u001b[0m\u001b[0;34m(\u001b[0m\u001b[0mkey\u001b[0m\u001b[0;34m)\u001b[0m \u001b[0;32mfrom\u001b[0m \u001b[0merr\u001b[0m\u001b[0;34m\u001b[0m\u001b[0;34m\u001b[0m\u001b[0m\n\u001b[0m\u001b[1;32m   2898\u001b[0m \u001b[0;34m\u001b[0m\u001b[0m\n\u001b[1;32m   2899\u001b[0m         \u001b[0;32mif\u001b[0m \u001b[0mtolerance\u001b[0m \u001b[0;32mis\u001b[0m \u001b[0;32mnot\u001b[0m \u001b[0;32mNone\u001b[0m\u001b[0;34m:\u001b[0m\u001b[0;34m\u001b[0m\u001b[0;34m\u001b[0m\u001b[0m\n",
      "\u001b[0;31mKeyError\u001b[0m: 1"
     ]
    }
   ],
   "source": [
    " result_click = []\n",
    "for types in type_list:\n",
    "    types_dic = {}\n",
    "    X = RI_data[types].value_counts()\n",
    "    Y = list(X.index)\n",
    "    for index in Y:\n",
    "        a = RI_data.loc[RI_data[types]==index, 'click' ].value_counts()\n",
    "        b = a[1]/(a[0]+a[1])\n",
    "        types_dic[index] = b\n",
    "    result.append(types_dic)\n",
    "print(result)"
   ]
  },
  {
   "cell_type": "code",
   "execution_count": null,
   "metadata": {},
   "outputs": [],
   "source": []
  }
 ],
 "metadata": {
  "kernelspec": {
   "display_name": "Python 3",
   "language": "python",
   "name": "python3"
  },
  "language_info": {
   "codemirror_mode": {
    "name": "ipython",
    "version": 3
   },
   "file_extension": ".py",
   "mimetype": "text/x-python",
   "name": "python",
   "nbconvert_exporter": "python",
   "pygments_lexer": "ipython3",
   "version": "3.8.5"
  }
 },
 "nbformat": 4,
 "nbformat_minor": 4
}
