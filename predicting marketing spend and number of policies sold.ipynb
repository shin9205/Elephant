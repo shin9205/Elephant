{
 "cells": [
  {
   "cell_type": "code",
   "execution_count": 227,
   "metadata": {},
   "outputs": [],
   "source": [
    "import pandas as pd\n",
    "import numpy as np\n",
    "import matplotlib.pyplot as plt\n",
    "import seaborn as sns\n",
    "from sklearn.model_selection import train_test_split\n",
    "from sklearn.linear_model import LogisticRegression\n",
    "from sklearn.metrics import confusion_matrix\n",
    "\n",
    "from sklearn import tree\n",
    "\n",
    "from sklearn.tree import DecisionTreeClassifier\n",
    "from sklearn.ensemble import RandomForestClassifier\n",
    "from sklearn.neighbors import KNeighborsClassifier\n",
    "from sklearn.svm import SVC\n",
    "from sklearn.ensemble import VotingClassifier\n",
    "\n",
    "## This sets the plot style\n",
    "## to have a grid on a white background\n",
    "sns.set_style(\"whitegrid\")"
   ]
  },
  {
   "cell_type": "code",
   "execution_count": 228,
   "metadata": {},
   "outputs": [],
   "source": [
    "df = pd.read_csv('Root_Insurance_data.csv')"
   ]
  },
  {
   "cell_type": "code",
   "execution_count": 229,
   "metadata": {
    "scrolled": true
   },
   "outputs": [],
   "source": [
    "dummies1=pd.get_dummies(df['Currently Insured'], prefix='Currently Insured' )\n",
    "dummies2=pd.get_dummies(df['Marital Status'], prefix='Marital Status' )\n",
    "df['click'] = np.where(df['click']==False,0,1)"
   ]
  },
  {
   "cell_type": "code",
   "execution_count": 230,
   "metadata": {},
   "outputs": [],
   "source": [
    "dfnew=pd.concat([dummies1,dummies2,df],axis=1)\n",
    "dfnew.drop(['Currently Insured','Marital Status'], axis=1, inplace=True)"
   ]
  },
  {
   "cell_type": "code",
   "execution_count": 231,
   "metadata": {},
   "outputs": [],
   "source": [
    "X = dfnew[['Currently Insured_N','Currently Insured_Y','Currently Insured_unknown','Number of Vehicles','Number of Drivers','Marital Status_M','Marital Status_S', 'rank']]\n",
    "y = dfnew[['click', 'policies_sold']]"
   ]
  },
  {
   "cell_type": "code",
   "execution_count": 232,
   "metadata": {},
   "outputs": [],
   "source": [
    "## Now split the data\n",
    "## Have 20% for testing\n",
    "## Set 614 as the random state\n",
    "## and stratify the split\n",
    "X_train,X_test,y_train,y_test = train_test_split(X,y,\n",
    "                                                test_size=.2,\n",
    "                                                shuffle=True,\n",
    "                                                random_state=614,\n",
    "                                                stratify=y)\n",
    "X_train_befo = X_train[['Currently Insured_N','Currently Insured_Y','Currently Insured_unknown','Number of Vehicles','Number of Drivers','Marital Status_M','Marital Status_S']]\n",
    "X_test_befo = X_test[['Currently Insured_N','Currently Insured_Y','Currently Insured_unknown','Number of Vehicles','Number of Drivers','Marital Status_M','Marital Status_S']]"
   ]
  },
  {
   "cell_type": "code",
   "execution_count": 233,
   "metadata": {},
   "outputs": [
    {
     "data": {
      "text/plain": [
       "array([[-0.44509893, -0.42614813,  0.8703522 , -0.54722821,  0.13504459,\n",
       "        -0.12554517,  0.1246503 ]])"
      ]
     },
     "execution_count": 233,
     "metadata": {},
     "output_type": "execute_result"
    }
   ],
   "source": [
    "logistic = LogisticRegression()\n",
    "logistic.fit(X_train_befo,y_train['click'])"
   ]
  },
  {
   "cell_type": "code",
   "execution_count": 234,
   "metadata": {},
   "outputs": [
    {
     "name": "stdout",
     "output_type": "stream",
     "text": [
      "Accuracy of Logistic regression classifier on test set: 81.2%\n"
     ]
    }
   ],
   "source": [
    "logistic.predict(X_test_befo)\n",
    "print('Accuracy of Logistic regression classifier on test set: {}%'.format(logistic.score(X_test_befo, y_test['click'])*100))\n",
    "#the accuracy is high, so the model is reasonable enough."
   ]
  },
  {
   "cell_type": "code",
   "execution_count": 235,
   "metadata": {},
   "outputs": [],
   "source": [
    "click_prob = logistic.predict_proba(X_train_befo)[:,1]"
   ]
  },
  {
   "cell_type": "code",
   "execution_count": 236,
   "metadata": {},
   "outputs": [
    {
     "data": {
      "text/plain": [
       "LogisticRegression()"
      ]
     },
     "execution_count": 236,
     "metadata": {},
     "output_type": "execute_result"
    }
   ],
   "source": [
    "# logistic regression model, output: policies_sold\n",
    "logistic_s = LogisticRegression()\n",
    "logistic_s.fit(X_train_befo,y_train['policies_sold'])"
   ]
  },
  {
   "cell_type": "code",
   "execution_count": 237,
   "metadata": {},
   "outputs": [
    {
     "name": "stdout",
     "output_type": "stream",
     "text": [
      "Accuracy of Logistic regression classifier on test set: 92.15%\n"
     ]
    }
   ],
   "source": [
    "# accuracy for the policies_sold model\n",
    "logistic_s.predict(X_test_befo)\n",
    "print('Accuracy of Logistic regression classifier on test set: {}%'.format(logistic_s.score(X_test_befo, y_test['policies_sold'])*100))"
   ]
  },
  {
   "cell_type": "code",
   "execution_count": 238,
   "metadata": {},
   "outputs": [],
   "source": [
    "sold_prob = logistic_s.predict_proba(X_train_befo)[:,1]"
   ]
  },
  {
   "cell_type": "code",
   "execution_count": 239,
   "metadata": {},
   "outputs": [],
   "source": [
    "#define new column\n",
    "sold_new = np.divide(sold_prob,click_prob)\n",
    "y_new = pd.DataFrame(sold_new)"
   ]
  },
  {
   "cell_type": "code",
   "execution_count": 240,
   "metadata": {},
   "outputs": [
    {
     "data": {
      "text/plain": [
       "LinearRegression()"
      ]
     },
     "execution_count": 240,
     "metadata": {},
     "output_type": "execute_result"
    }
   ],
   "source": [
    "# linear regression modeling for new column\n",
    "from sklearn.linear_model import LinearRegression\n",
    "reg = LinearRegression(copy_X = True)\n",
    "reg.fit(X_train_befo, y_new)"
   ]
  },
  {
   "cell_type": "code",
   "execution_count": 242,
   "metadata": {},
   "outputs": [
    {
     "data": {
      "text/plain": [
       "0.00016367656330716596"
      ]
     },
     "execution_count": 242,
     "metadata": {},
     "output_type": "execute_result"
    }
   ],
   "source": [
    "# prediction of sold_prob/click_prob for test set\n",
    "test_pre = reg.predict(X_test_befo)\n",
    "# 2d array -> 1d array\n",
    "test_pre = test_pre.flatten()\n",
    "#sold_prob/click_prob calculated from two logistic model\n",
    "test_cal = np.divide(logistic_s.predict_proba(X_test_befo)[:,1],logistic.predict_proba(X_test_befo)[:,1])\n",
    "#MSE\n",
    "diff =test_pre-test_cal\n",
    "np.power(np.linalg.norm(diff),2)/len(diff)"
   ]
  },
  {
   "cell_type": "code",
   "execution_count": 243,
   "metadata": {},
   "outputs": [
    {
     "data": {
      "text/plain": [
       "LogisticRegression()"
      ]
     },
     "execution_count": 243,
     "metadata": {},
     "output_type": "execute_result"
    }
   ],
   "source": [
    "logistic_pre_click = LogisticRegression()\n",
    "logistic_pre_click.fit(X_train,y_train['click'])\n"
   ]
  },
  {
   "cell_type": "code",
   "execution_count": 244,
   "metadata": {},
   "outputs": [
    {
     "name": "stdout",
     "output_type": "stream",
     "text": [
      "Accuracy of Logistic regression classifier on test set: 82.39999999999999%\n"
     ]
    }
   ],
   "source": [
    "print('Accuracy of Logistic regression classifier on test set: {}%'.format(logistic_pre_click.score(X_test, y_test['click'])*100))"
   ]
  },
  {
   "cell_type": "code",
   "execution_count": 245,
   "metadata": {},
   "outputs": [
    {
     "name": "stdout",
     "output_type": "stream",
     "text": [
      "Accuracy of Logistic regression classifier on test set: 92.15%\n"
     ]
    }
   ],
   "source": [
    "logistic_pre_sold = LogisticRegression()\n",
    "logistic_pre_sold.fit(X_train,y_train['policies_sold'])\n",
    "\n",
    "print('Accuracy of Logistic regression classifier on test set: {}%'.format(logistic_pre_sold.score(X_test, y_test['policies_sold'])*100))"
   ]
  },
  {
   "cell_type": "code",
   "execution_count": 270,
   "metadata": {},
   "outputs": [],
   "source": [
    "X1 = dfnew[['Currently Insured_N','Currently Insured_Y','Currently Insured_unknown','Number of Vehicles','Number of Drivers','Marital Status_M','Marital Status_S','rank']]\n",
    "\n",
    "# add more columns to predict marketing spend and #(sold_policies)\n",
    "# click_less_th: threshhold for customers with less click-throuh-rate\n",
    "# buy_many_th: threshhold for customers with high sold_ratio given that they clicked.\n",
    "# buy_less_th: threshhold for customers with low sold_ratio given that they clicked.\n",
    "def Data_for_pre(Data, click_less_th, buy_many_th, buy_less_th):\n",
    "    Data_copy = Data.copy()\n",
    "    Data_copy_temp = Data_copy[['Currently Insured_N','Currently Insured_Y','Currently Insured_unknown','Number of Vehicles','Number of Drivers','Marital Status_M','Marital Status_S']]\n",
    "    spend = pd.DataFrame(np.zeros(10000),columns = ['spend_diff'])\n",
    "    click_less=pd.DataFrame((logistic.predict_proba(Data_copy_temp)[:,1]<=click_less_th).astype(int),columns = ['click_less'])\n",
    "    buy_many = pd.DataFrame((reg.predict(Data_copy_temp)>buy_many_th).astype(int),columns = ['buy_many'])\n",
    "    buy_less = pd.DataFrame((reg.predict(Data_copy_temp)<=buy_less_th).astype(int),columns = ['buy_less'])\n",
    "    Data_new=pd.concat([Data_copy, spend, buy_many, buy_less, click_less],axis=1)\n",
    "    return Data_new\n",
    "\n",
    "X_new = Data_for_pre(X1, 0.2, 0.5, 0.35)\n"
   ]
  },
  {
   "cell_type": "code",
   "execution_count": 248,
   "metadata": {},
   "outputs": [],
   "source": [
    "# make the rank of customers who have high click_through-rate & low sold_rate given that they clicked lower by 1 if it possible. \n",
    "def rank_lower(X):\n",
    "    X_copy = X.copy()\n",
    "    X_copy.loc[(X_copy['click_less']==0)&(X_copy['buy_less']==1.0)&(X_copy['rank']<5.0),'rank'] += 1\n",
    "    X_copy.loc[(X_copy['click_less']==0)&(X_copy['buy_less']==1.0)&(X_copy['rank']<5.0),'spend_diff'] -= 1\n",
    "    return X_copy\n"
   ]
  },
  {
   "cell_type": "code",
   "execution_count": 249,
   "metadata": {},
   "outputs": [],
   "source": [
    "# make the rank of customers who have low click_through-rate & high sold_rate given that they clicked higher by 1 . \n",
    "def rank_higher(X):\n",
    "    X_copy = X.copy()\n",
    "    X_copy.loc[(X_copy['click_less']==1.0)&(X_copy['buy_many']==1.0)&(X_copy['rank']>1.0),'rank'] -= 1\n",
    "    X_copy.loc[(X_copy['click_less']==1.0)&(X_copy['buy_less']==1.0)&(X_copy['rank']>1.0),'spend_diff'] += 1\n",
    "    return X_copy"
   ]
  },
  {
   "cell_type": "code",
   "execution_count": 250,
   "metadata": {},
   "outputs": [],
   "source": [
    "# do both(rank_higher/rank_lower\n",
    "def rank_change_both(X):\n",
    "    X_copy = X.copy()\n",
    "    X_copy = rank_lower(X_copy)\n",
    "    X_copy = rank_higher(X_copy)\n",
    "    return X_copy"
   ]
  },
  {
   "cell_type": "code",
   "execution_count": 251,
   "metadata": {},
   "outputs": [],
   "source": [
    "# increase the rank of all customers by 1 . \n",
    "def rank_higher_all(X):\n",
    "    X_copy = X.copy()\n",
    "    X_copy.loc[(X_copy['rank']>1.0),'rank'] -= 1\n",
    "    X_copy.loc[(X_copy['rank']>1.0),'spend_diff'] += 1\n",
    "    return X_copy\n"
   ]
  },
  {
   "cell_type": "code",
   "execution_count": 259,
   "metadata": {},
   "outputs": [],
   "source": [
    "\n",
    "#predict #(policies_sold) and marketing spend\n",
    "def pre_sold_spend(X):\n",
    "    X_copy = X.copy()\n",
    "    A=logistic_pre_sold.predict_proba(X_copy[['Currently Insured_N','Currently Insured_Y','Currently Insured_unknown','Number of Vehicles','Number of Drivers','Marital Status_M','Marital Status_S', 'rank']])[:,1] #sold\n",
    "    B=logistic_pre_click.predict_proba(X_copy[['Currently Insured_N','Currently Insured_Y','Currently Insured_unknown','Number of Vehicles','Number of Drivers','Marital Status_M','Marital Status_S', 'rank']])[:,1] #click\n",
    "    C = X4['spend_diff'].to_numpy()\n",
    "    spend_exp = 0\n",
    "    for i in range(len(B)):\n",
    "        spend_exp += B[i]*(10+C[i])\n",
    "    \n",
    "    sold_exp = np.sum(A)\n",
    "    \n",
    "    return sold_exp, spend_exp"
   ]
  },
  {
   "cell_type": "code",
   "execution_count": 268,
   "metadata": {},
   "outputs": [
    {
     "name": "stdout",
     "output_type": "stream",
     "text": [
      "(781.3392934925713, 18844.948852558682)\n",
      "(769.4618177037148, 18507.547947450952)\n",
      "(817.1237326055251, 19564.35064384309)\n",
      "(805.2462568166685, 19226.949738735326)\n",
      "(837.2192033965487, 19793.136503979207)\n"
     ]
    }
   ],
   "source": [
    "X_lower_1 = rank_lower(X_new)\n",
    "X_higher_1 = rank_higher(X_new)\n",
    "X_both_1 = rank_change_both(X_new)\n",
    "X_both_2 = rank_change_both(X_both_1)\n",
    "print(pre_sold_spend(X_new)) #E(sold), E(spend)\n",
    "print(pre_sold_spend(X_lower_1))\n",
    "print(pre_sold_spend(X_higher_1))\n",
    "print(pre_sold_spend(X_both_1))\n",
    "print(pre_sold_spend(X_both_2))"
   ]
  },
  {
   "cell_type": "code",
   "execution_count": 269,
   "metadata": {},
   "outputs": [
    {
     "name": "stdout",
     "output_type": "stream",
     "text": [
      "(1150.923492887306, 28884.079636320675)\n"
     ]
    }
   ],
   "source": [
    "X_all_high = rank_higher_all(X_new)\n",
    "print(pre_sold_spend(X_all_high))"
   ]
  },
  {
   "cell_type": "code",
   "execution_count": 260,
   "metadata": {},
   "outputs": [],
   "source": [
    "X_new_test = Data_for_pre(X_test, 0.2, 0.5, 0.35)\n",
    "X_new_test = X_new_test.dropna()"
   ]
  },
  {
   "cell_type": "code",
   "execution_count": 261,
   "metadata": {},
   "outputs": [
    {
     "name": "stdout",
     "output_type": "stream",
     "text": [
      "      Currently Insured_N  Currently Insured_Y  Currently Insured_unknown  \\\n",
      "9                     0.0                  0.0                        1.0   \n",
      "15                    0.0                  0.0                        1.0   \n",
      "19                    1.0                  0.0                        0.0   \n",
      "21                    1.0                  0.0                        0.0   \n",
      "34                    0.0                  0.0                        1.0   \n",
      "...                   ...                  ...                        ...   \n",
      "1975                  1.0                  0.0                        0.0   \n",
      "1980                  1.0                  0.0                        0.0   \n",
      "1990                  0.0                  1.0                        0.0   \n",
      "1992                  1.0                  0.0                        0.0   \n",
      "1999                  0.0                  0.0                        1.0   \n",
      "\n",
      "      Number of Vehicles  Number of Drivers  Marital Status_M  \\\n",
      "9                    1.0                2.0               1.0   \n",
      "15                   3.0                2.0               1.0   \n",
      "19                   3.0                1.0               1.0   \n",
      "21                   1.0                1.0               1.0   \n",
      "34                   2.0                2.0               0.0   \n",
      "...                  ...                ...               ...   \n",
      "1975                 1.0                2.0               1.0   \n",
      "1980                 1.0                2.0               0.0   \n",
      "1990                 1.0                1.0               0.0   \n",
      "1992                 1.0                2.0               1.0   \n",
      "1999                 1.0                2.0               0.0   \n",
      "\n",
      "      Marital Status_S  rank  spend_diff  buy_many  buy_less  click_less  \n",
      "9                  0.0   1.0         0.0       0.0       1.0         0.0  \n",
      "15                 0.0   2.0         0.0       0.0       1.0         1.0  \n",
      "19                 0.0   5.0         0.0       0.0       0.0         0.0  \n",
      "21                 0.0   3.0         0.0       0.0       0.0         1.0  \n",
      "34                 1.0   1.0         0.0       0.0       0.0         0.0  \n",
      "...                ...   ...         ...       ...       ...         ...  \n",
      "1975               0.0   4.0         0.0       0.0       0.0         0.0  \n",
      "1980               1.0   2.0         0.0       0.0       0.0         0.0  \n",
      "1990               1.0   3.0         0.0       0.0       1.0         1.0  \n",
      "1992               0.0   1.0         0.0       0.0       0.0         1.0  \n",
      "1999               1.0   3.0         0.0       0.0       1.0         1.0  \n",
      "\n",
      "[420 rows x 12 columns]\n"
     ]
    }
   ],
   "source": [
    "print(X_new_test)"
   ]
  },
  {
   "cell_type": "code",
   "execution_count": 265,
   "metadata": {},
   "outputs": [
    {
     "name": "stdout",
     "output_type": "stream",
     "text": [
      "(33.44362001137009, 824.8652656973576)\n",
      "(32.91381300758479, 812.4884814420776)\n",
      "(34.079523477175194, 843.4471866767976)\n",
      "(33.54971647338991, 831.070402421518)\n",
      "0    1624\n",
      "1     376\n",
      "Name: click, dtype: int64\n",
      "0    1843\n",
      "1     157\n",
      "Name: policies_sold, dtype: int64\n"
     ]
    }
   ],
   "source": [
    "X_lower_1 = rank_lower(X_new_test)\n",
    "X_higher_1 = rank_higher(X_new_test)\n",
    "X_both_1 = rank_change_both(X_new_test)\n",
    "\n",
    "print(pre_sold_spend(X_new_test))\n",
    "print(pre_sold_spend(X_lower_1))\n",
    "print(pre_sold_spend(X_higher_1))\n",
    "print(pre_sold_spend(X_both_1))\n",
    "\n",
    "\n",
    "print(y_test['click'].value_counts())\n",
    "print(y_test['policies_sold'].value_counts())"
   ]
  }
 ],
 "metadata": {
  "kernelspec": {
   "display_name": "Python 3",
   "language": "python",
   "name": "python3"
  },
  "language_info": {
   "codemirror_mode": {
    "name": "ipython",
    "version": 3
   },
   "file_extension": ".py",
   "mimetype": "text/x-python",
   "name": "python",
   "nbconvert_exporter": "python",
   "pygments_lexer": "ipython3",
   "version": "3.8.5"
  }
 },
 "nbformat": 4,
 "nbformat_minor": 4
}
