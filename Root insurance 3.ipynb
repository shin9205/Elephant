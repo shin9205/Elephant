{
 "cells": [
  {
   "cell_type": "code",
   "execution_count": 56,
   "metadata": {},
   "outputs": [],
   "source": [
    "import pandas as pd\n",
    "import numpy as np\n",
    "import matplotlib.pyplot as plt\n",
    "import seaborn as sns\n",
    "from sklearn.model_selection import train_test_split\n",
    "from sklearn.linear_model import LogisticRegression\n",
    "from sklearn.metrics import confusion_matrix\n",
    "\n",
    "from sklearn import tree\n",
    "\n",
    "from sklearn.tree import DecisionTreeClassifier\n",
    "from sklearn.ensemble import RandomForestClassifier\n",
    "from sklearn.neighbors import KNeighborsClassifier\n",
    "from sklearn.svm import SVC\n",
    "from sklearn.ensemble import VotingClassifier\n",
    "\n",
    "## This sets the plot style\n",
    "## to have a grid on a white background\n",
    "sns.set_style(\"whitegrid\")"
   ]
  },
  {
   "cell_type": "code",
   "execution_count": 57,
   "metadata": {},
   "outputs": [],
   "source": [
    "df = pd.read_csv('Root_Insurance_data.csv')"
   ]
  },
  {
   "cell_type": "code",
   "execution_count": 58,
   "metadata": {
    "scrolled": false
   },
   "outputs": [
    {
     "name": "stdout",
     "output_type": "stream",
     "text": [
      "Index(['Currently Insured', 'Number of Vehicles', 'Number of Drivers',\n",
      "       'Marital Status', 'bid', 'rank', 'click', 'policies_sold'],\n",
      "      dtype='object')\n",
      "Currently Insured     object\n",
      "Number of Vehicles     int64\n",
      "Number of Drivers      int64\n",
      "Marital Status        object\n",
      "bid                    int64\n",
      "rank                   int64\n",
      "click                   bool\n",
      "policies_sold          int64\n",
      "dtype: object\n"
     ]
    },
    {
     "data": {
      "text/html": [
       "<div>\n",
       "<style scoped>\n",
       "    .dataframe tbody tr th:only-of-type {\n",
       "        vertical-align: middle;\n",
       "    }\n",
       "\n",
       "    .dataframe tbody tr th {\n",
       "        vertical-align: top;\n",
       "    }\n",
       "\n",
       "    .dataframe thead th {\n",
       "        text-align: right;\n",
       "    }\n",
       "</style>\n",
       "<table border=\"1\" class=\"dataframe\">\n",
       "  <thead>\n",
       "    <tr style=\"text-align: right;\">\n",
       "      <th></th>\n",
       "      <th>Currently Insured</th>\n",
       "      <th>Number of Vehicles</th>\n",
       "      <th>Number of Drivers</th>\n",
       "      <th>Marital Status</th>\n",
       "      <th>bid</th>\n",
       "      <th>rank</th>\n",
       "      <th>click</th>\n",
       "      <th>policies_sold</th>\n",
       "    </tr>\n",
       "  </thead>\n",
       "  <tbody>\n",
       "    <tr>\n",
       "      <th>0</th>\n",
       "      <td>unknown</td>\n",
       "      <td>2</td>\n",
       "      <td>1</td>\n",
       "      <td>M</td>\n",
       "      <td>10</td>\n",
       "      <td>2</td>\n",
       "      <td>False</td>\n",
       "      <td>0</td>\n",
       "    </tr>\n",
       "    <tr>\n",
       "      <th>1</th>\n",
       "      <td>Y</td>\n",
       "      <td>3</td>\n",
       "      <td>1</td>\n",
       "      <td>M</td>\n",
       "      <td>10</td>\n",
       "      <td>5</td>\n",
       "      <td>False</td>\n",
       "      <td>0</td>\n",
       "    </tr>\n",
       "    <tr>\n",
       "      <th>2</th>\n",
       "      <td>Y</td>\n",
       "      <td>3</td>\n",
       "      <td>2</td>\n",
       "      <td>M</td>\n",
       "      <td>10</td>\n",
       "      <td>5</td>\n",
       "      <td>False</td>\n",
       "      <td>0</td>\n",
       "    </tr>\n",
       "    <tr>\n",
       "      <th>3</th>\n",
       "      <td>N</td>\n",
       "      <td>3</td>\n",
       "      <td>2</td>\n",
       "      <td>S</td>\n",
       "      <td>10</td>\n",
       "      <td>4</td>\n",
       "      <td>False</td>\n",
       "      <td>0</td>\n",
       "    </tr>\n",
       "    <tr>\n",
       "      <th>4</th>\n",
       "      <td>unknown</td>\n",
       "      <td>2</td>\n",
       "      <td>2</td>\n",
       "      <td>S</td>\n",
       "      <td>10</td>\n",
       "      <td>2</td>\n",
       "      <td>False</td>\n",
       "      <td>0</td>\n",
       "    </tr>\n",
       "  </tbody>\n",
       "</table>\n",
       "</div>"
      ],
      "text/plain": [
       "  Currently Insured  Number of Vehicles  Number of Drivers Marital Status  \\\n",
       "0           unknown                   2                  1              M   \n",
       "1                 Y                   3                  1              M   \n",
       "2                 Y                   3                  2              M   \n",
       "3                 N                   3                  2              S   \n",
       "4           unknown                   2                  2              S   \n",
       "\n",
       "   bid  rank  click  policies_sold  \n",
       "0   10     2  False              0  \n",
       "1   10     5  False              0  \n",
       "2   10     5  False              0  \n",
       "3   10     4  False              0  \n",
       "4   10     2  False              0  "
      ]
     },
     "execution_count": 58,
     "metadata": {},
     "output_type": "execute_result"
    }
   ],
   "source": [
    "print(df.columns)\n",
    "print(df.dtypes)\n",
    "df.head()"
   ]
  },
  {
   "cell_type": "code",
   "execution_count": 59,
   "metadata": {
    "scrolled": true
   },
   "outputs": [],
   "source": [
    "dummies1=pd.get_dummies(df['Currently Insured'], prefix='Currently Insured' )\n",
    "dummies2=pd.get_dummies(df['Marital Status'], prefix='Marital Status' )\n",
    "df['click'] = np.where(df['click']==False,0,1)"
   ]
  },
  {
   "cell_type": "code",
   "execution_count": 60,
   "metadata": {},
   "outputs": [],
   "source": [
    "dfnew=pd.concat([dummies1,dummies2,df],axis=1)\n",
    "dfnew.drop(['Currently Insured','Marital Status'], axis=1, inplace=True)"
   ]
  },
  {
   "cell_type": "code",
   "execution_count": 61,
   "metadata": {},
   "outputs": [],
   "source": [
    "X = dfnew[['Currently Insured_N','Currently Insured_Y','Currently Insured_unknown','Number of Vehicles','Number of Drivers','Marital Status_M','Marital Status_S']]\n",
    "y = dfnew[['click', 'policies_sold']]"
   ]
  },
  {
   "cell_type": "code",
   "execution_count": 62,
   "metadata": {},
   "outputs": [],
   "source": [
    "## Now split the data\n",
    "## Have 20% for testing\n",
    "## Set 614 as the random state\n",
    "## and stratify the split\n",
    "X_train,X_test,y_train,y_test = train_test_split(X,y,\n",
    "                                                test_size=.2,\n",
    "                                                shuffle=True,\n",
    "                                                random_state=614,\n",
    "                                                stratify=y)"
   ]
  },
  {
   "cell_type": "code",
   "execution_count": 63,
   "metadata": {},
   "outputs": [
    {
     "data": {
      "text/plain": [
       "LogisticRegression()"
      ]
     },
     "execution_count": 63,
     "metadata": {},
     "output_type": "execute_result"
    }
   ],
   "source": [
    "logistic = LogisticRegression()\n",
    "logistic.fit(X_train,y_train['click'])\n",
    "\n",
    "#dectree = tree.DecisionTreeClassifier()             \n",
    "#dectree.fit(X_train, y_train)          \n",
    "\n",
    "#forest = RandomForestClassifier()\n",
    "#forest.fit(X_train, y_train)\n",
    "\n",
    "#knn = KNeighborsClassifier(n_neighbors = 2)\n",
    "#knn.fit(X_train,y_train)\n",
    "\n",
    "#svm = SVC(kernel = 'linear')\n",
    "#svm.fit(X_train,y_train)\n",
    "\n",
    "#voting_clf = VotingClassifier(\n",
    "                #[('lr',LogisticRegression()),\n",
    "                #('rf',RandomForestClassifier()),\n",
    "                #('svm',SVC()),\n",
    "                #('knn',KNeighborsClassifier())],\n",
    "                #voting = \"hard\")\n",
    "#voting_clf.fit(X_train,y_train)\n"
   ]
  },
  {
   "cell_type": "code",
   "execution_count": 64,
   "metadata": {},
   "outputs": [
    {
     "name": "stdout",
     "output_type": "stream",
     "text": [
      "Accuracy of Logistic regression classifier on test set: 81.2%\n"
     ]
    }
   ],
   "source": [
    "logistic.predict(X_test)\n",
    "print('Accuracy of Logistic regression classifier on test set: {}%'.format(logistic.score(X_test, y_test['click'])*100))\n",
    "#print('Accuracy of Decision Tree  classifier on test set: {}%'.format(dectree.score(X_test, y_test)*100))\n",
    "#print('Accuracy of Random Forest classifier on test set {}%'.format(forest.score(X_test, y_test)*100))\n",
    "#print('Accuracy of KNN classifier on test set {}%'.format(knn.score(X_test, y_test)*100))\n",
    "#print('Accuracy of SVM classifier on test set {}%'.format(svm.score(X_test, y_test)*100))\n",
    "#print('Accuracy of Ensemble voting classifier on test set {}%'.format(voting_clf.score(X_test, y_test)*100))\n",
    "\n",
    "#the accuracy is high, so the model is reasonable enough."
   ]
  },
  {
   "cell_type": "code",
   "execution_count": 65,
   "metadata": {},
   "outputs": [],
   "source": [
    "#There are 1817 pepole clicking among the 10,000 records, \n",
    "#so I think we should show the ads to those people who have a probability of 0.3 to click in our ads.\n",
    "#When the sample size is large enough, we can consider the frequency of one event's occurence to be it's probability, \n",
    "#which means that a person have a probability of 18.17% to click in our ads.\n",
    "\n",
    "#The threshold could be set as other reasonable values and I choose 0.3 here arbitrarily.\n",
    "y_pred=pd.DataFrame((logistic.predict_proba(X)[:,1]>=0.3).astype(int),columns = ['y_pred'])"
   ]
  },
  {
   "cell_type": "code",
   "execution_count": 84,
   "metadata": {},
   "outputs": [],
   "source": [
    "click_prob = logistic.predict_proba(X_train)[:,1]"
   ]
  },
  {
   "cell_type": "code",
   "execution_count": 67,
   "metadata": {},
   "outputs": [
    {
     "data": {
      "text/html": [
       "<div>\n",
       "<style scoped>\n",
       "    .dataframe tbody tr th:only-of-type {\n",
       "        vertical-align: middle;\n",
       "    }\n",
       "\n",
       "    .dataframe tbody tr th {\n",
       "        vertical-align: top;\n",
       "    }\n",
       "\n",
       "    .dataframe thead th {\n",
       "        text-align: right;\n",
       "    }\n",
       "</style>\n",
       "<table border=\"1\" class=\"dataframe\">\n",
       "  <thead>\n",
       "    <tr style=\"text-align: right;\">\n",
       "      <th></th>\n",
       "      <th>y_pred</th>\n",
       "    </tr>\n",
       "  </thead>\n",
       "  <tbody>\n",
       "    <tr>\n",
       "      <th>0</th>\n",
       "      <td>0</td>\n",
       "    </tr>\n",
       "    <tr>\n",
       "      <th>1</th>\n",
       "      <td>0</td>\n",
       "    </tr>\n",
       "    <tr>\n",
       "      <th>2</th>\n",
       "      <td>0</td>\n",
       "    </tr>\n",
       "    <tr>\n",
       "      <th>3</th>\n",
       "      <td>0</td>\n",
       "    </tr>\n",
       "    <tr>\n",
       "      <th>4</th>\n",
       "      <td>1</td>\n",
       "    </tr>\n",
       "    <tr>\n",
       "      <th>...</th>\n",
       "      <td>...</td>\n",
       "    </tr>\n",
       "    <tr>\n",
       "      <th>9995</th>\n",
       "      <td>0</td>\n",
       "    </tr>\n",
       "    <tr>\n",
       "      <th>9996</th>\n",
       "      <td>0</td>\n",
       "    </tr>\n",
       "    <tr>\n",
       "      <th>9997</th>\n",
       "      <td>0</td>\n",
       "    </tr>\n",
       "    <tr>\n",
       "      <th>9998</th>\n",
       "      <td>0</td>\n",
       "    </tr>\n",
       "    <tr>\n",
       "      <th>9999</th>\n",
       "      <td>0</td>\n",
       "    </tr>\n",
       "  </tbody>\n",
       "</table>\n",
       "<p>10000 rows × 1 columns</p>\n",
       "</div>"
      ],
      "text/plain": [
       "      y_pred\n",
       "0          0\n",
       "1          0\n",
       "2          0\n",
       "3          0\n",
       "4          1\n",
       "...      ...\n",
       "9995       0\n",
       "9996       0\n",
       "9997       0\n",
       "9998       0\n",
       "9999       0\n",
       "\n",
       "[10000 rows x 1 columns]"
      ]
     },
     "execution_count": 67,
     "metadata": {},
     "output_type": "execute_result"
    }
   ],
   "source": [
    "y_pred"
   ]
  },
  {
   "cell_type": "code",
   "execution_count": 68,
   "metadata": {},
   "outputs": [],
   "source": [
    "dfpred=pd.concat([dfnew,y_pred],axis=1)"
   ]
  },
  {
   "cell_type": "code",
   "execution_count": 69,
   "metadata": {},
   "outputs": [],
   "source": [
    "data=dfpred.drop(index=dfpred.loc[(dfpred['y_pred']==0)].index)"
   ]
  },
  {
   "cell_type": "code",
   "execution_count": 70,
   "metadata": {},
   "outputs": [
    {
     "data": {
      "text/html": [
       "<div>\n",
       "<style scoped>\n",
       "    .dataframe tbody tr th:only-of-type {\n",
       "        vertical-align: middle;\n",
       "    }\n",
       "\n",
       "    .dataframe tbody tr th {\n",
       "        vertical-align: top;\n",
       "    }\n",
       "\n",
       "    .dataframe thead th {\n",
       "        text-align: right;\n",
       "    }\n",
       "</style>\n",
       "<table border=\"1\" class=\"dataframe\">\n",
       "  <thead>\n",
       "    <tr style=\"text-align: right;\">\n",
       "      <th></th>\n",
       "      <th>Currently Insured_N</th>\n",
       "      <th>Currently Insured_Y</th>\n",
       "      <th>Currently Insured_unknown</th>\n",
       "      <th>Marital Status_M</th>\n",
       "      <th>Marital Status_S</th>\n",
       "      <th>Number of Vehicles</th>\n",
       "      <th>Number of Drivers</th>\n",
       "      <th>bid</th>\n",
       "      <th>rank</th>\n",
       "      <th>click</th>\n",
       "      <th>policies_sold</th>\n",
       "      <th>y_pred</th>\n",
       "    </tr>\n",
       "  </thead>\n",
       "  <tbody>\n",
       "    <tr>\n",
       "      <th>4</th>\n",
       "      <td>0</td>\n",
       "      <td>0</td>\n",
       "      <td>1</td>\n",
       "      <td>0</td>\n",
       "      <td>1</td>\n",
       "      <td>2</td>\n",
       "      <td>2</td>\n",
       "      <td>10</td>\n",
       "      <td>2</td>\n",
       "      <td>0</td>\n",
       "      <td>0</td>\n",
       "      <td>1</td>\n",
       "    </tr>\n",
       "    <tr>\n",
       "      <th>9</th>\n",
       "      <td>0</td>\n",
       "      <td>0</td>\n",
       "      <td>1</td>\n",
       "      <td>1</td>\n",
       "      <td>0</td>\n",
       "      <td>1</td>\n",
       "      <td>2</td>\n",
       "      <td>10</td>\n",
       "      <td>1</td>\n",
       "      <td>0</td>\n",
       "      <td>0</td>\n",
       "      <td>1</td>\n",
       "    </tr>\n",
       "    <tr>\n",
       "      <th>14</th>\n",
       "      <td>0</td>\n",
       "      <td>0</td>\n",
       "      <td>1</td>\n",
       "      <td>0</td>\n",
       "      <td>1</td>\n",
       "      <td>2</td>\n",
       "      <td>2</td>\n",
       "      <td>10</td>\n",
       "      <td>2</td>\n",
       "      <td>1</td>\n",
       "      <td>1</td>\n",
       "      <td>1</td>\n",
       "    </tr>\n",
       "    <tr>\n",
       "      <th>16</th>\n",
       "      <td>0</td>\n",
       "      <td>0</td>\n",
       "      <td>1</td>\n",
       "      <td>1</td>\n",
       "      <td>0</td>\n",
       "      <td>1</td>\n",
       "      <td>2</td>\n",
       "      <td>10</td>\n",
       "      <td>1</td>\n",
       "      <td>1</td>\n",
       "      <td>1</td>\n",
       "      <td>1</td>\n",
       "    </tr>\n",
       "    <tr>\n",
       "      <th>28</th>\n",
       "      <td>0</td>\n",
       "      <td>0</td>\n",
       "      <td>1</td>\n",
       "      <td>1</td>\n",
       "      <td>0</td>\n",
       "      <td>1</td>\n",
       "      <td>2</td>\n",
       "      <td>10</td>\n",
       "      <td>1</td>\n",
       "      <td>1</td>\n",
       "      <td>1</td>\n",
       "      <td>1</td>\n",
       "    </tr>\n",
       "    <tr>\n",
       "      <th>...</th>\n",
       "      <td>...</td>\n",
       "      <td>...</td>\n",
       "      <td>...</td>\n",
       "      <td>...</td>\n",
       "      <td>...</td>\n",
       "      <td>...</td>\n",
       "      <td>...</td>\n",
       "      <td>...</td>\n",
       "      <td>...</td>\n",
       "      <td>...</td>\n",
       "      <td>...</td>\n",
       "      <td>...</td>\n",
       "    </tr>\n",
       "    <tr>\n",
       "      <th>9972</th>\n",
       "      <td>0</td>\n",
       "      <td>0</td>\n",
       "      <td>1</td>\n",
       "      <td>1</td>\n",
       "      <td>0</td>\n",
       "      <td>1</td>\n",
       "      <td>2</td>\n",
       "      <td>10</td>\n",
       "      <td>2</td>\n",
       "      <td>1</td>\n",
       "      <td>0</td>\n",
       "      <td>1</td>\n",
       "    </tr>\n",
       "    <tr>\n",
       "      <th>9975</th>\n",
       "      <td>0</td>\n",
       "      <td>0</td>\n",
       "      <td>1</td>\n",
       "      <td>1</td>\n",
       "      <td>0</td>\n",
       "      <td>1</td>\n",
       "      <td>1</td>\n",
       "      <td>10</td>\n",
       "      <td>1</td>\n",
       "      <td>1</td>\n",
       "      <td>1</td>\n",
       "      <td>1</td>\n",
       "    </tr>\n",
       "    <tr>\n",
       "      <th>9984</th>\n",
       "      <td>0</td>\n",
       "      <td>0</td>\n",
       "      <td>1</td>\n",
       "      <td>1</td>\n",
       "      <td>0</td>\n",
       "      <td>2</td>\n",
       "      <td>2</td>\n",
       "      <td>10</td>\n",
       "      <td>3</td>\n",
       "      <td>0</td>\n",
       "      <td>0</td>\n",
       "      <td>1</td>\n",
       "    </tr>\n",
       "    <tr>\n",
       "      <th>9988</th>\n",
       "      <td>0</td>\n",
       "      <td>0</td>\n",
       "      <td>1</td>\n",
       "      <td>0</td>\n",
       "      <td>1</td>\n",
       "      <td>1</td>\n",
       "      <td>1</td>\n",
       "      <td>10</td>\n",
       "      <td>1</td>\n",
       "      <td>1</td>\n",
       "      <td>1</td>\n",
       "      <td>1</td>\n",
       "    </tr>\n",
       "    <tr>\n",
       "      <th>9989</th>\n",
       "      <td>0</td>\n",
       "      <td>0</td>\n",
       "      <td>1</td>\n",
       "      <td>0</td>\n",
       "      <td>1</td>\n",
       "      <td>2</td>\n",
       "      <td>2</td>\n",
       "      <td>10</td>\n",
       "      <td>3</td>\n",
       "      <td>0</td>\n",
       "      <td>0</td>\n",
       "      <td>1</td>\n",
       "    </tr>\n",
       "  </tbody>\n",
       "</table>\n",
       "<p>2049 rows × 12 columns</p>\n",
       "</div>"
      ],
      "text/plain": [
       "      Currently Insured_N  Currently Insured_Y  Currently Insured_unknown  \\\n",
       "4                       0                    0                          1   \n",
       "9                       0                    0                          1   \n",
       "14                      0                    0                          1   \n",
       "16                      0                    0                          1   \n",
       "28                      0                    0                          1   \n",
       "...                   ...                  ...                        ...   \n",
       "9972                    0                    0                          1   \n",
       "9975                    0                    0                          1   \n",
       "9984                    0                    0                          1   \n",
       "9988                    0                    0                          1   \n",
       "9989                    0                    0                          1   \n",
       "\n",
       "      Marital Status_M  Marital Status_S  Number of Vehicles  \\\n",
       "4                    0                 1                   2   \n",
       "9                    1                 0                   1   \n",
       "14                   0                 1                   2   \n",
       "16                   1                 0                   1   \n",
       "28                   1                 0                   1   \n",
       "...                ...               ...                 ...   \n",
       "9972                 1                 0                   1   \n",
       "9975                 1                 0                   1   \n",
       "9984                 1                 0                   2   \n",
       "9988                 0                 1                   1   \n",
       "9989                 0                 1                   2   \n",
       "\n",
       "      Number of Drivers  bid  rank  click  policies_sold  y_pred  \n",
       "4                     2   10     2      0              0       1  \n",
       "9                     2   10     1      0              0       1  \n",
       "14                    2   10     2      1              1       1  \n",
       "16                    2   10     1      1              1       1  \n",
       "28                    2   10     1      1              1       1  \n",
       "...                 ...  ...   ...    ...            ...     ...  \n",
       "9972                  2   10     2      1              0       1  \n",
       "9975                  1   10     1      1              1       1  \n",
       "9984                  2   10     3      0              0       1  \n",
       "9988                  1   10     1      1              1       1  \n",
       "9989                  2   10     3      0              0       1  \n",
       "\n",
       "[2049 rows x 12 columns]"
      ]
     },
     "execution_count": 70,
     "metadata": {},
     "output_type": "execute_result"
    }
   ],
   "source": [
    "data\n",
    "\n",
    "#We gain a new dataset here. Records left nwo are people who have 30% probability to click in our ads, \n",
    "#and we will use this dataset to determine our bid strategy.\n",
    "#Though some people do not click in actually, we still leave them in our new dataset, \n",
    "#because the reliable model we get \"think\" these people have 30% probability to click in, not 100%,\n",
    "#and they still could be our potential customers."
   ]
  },
  {
   "cell_type": "code",
   "execution_count": 71,
   "metadata": {},
   "outputs": [
    {
     "data": {
      "text/plain": [
       "LogisticRegression()"
      ]
     },
     "execution_count": 71,
     "metadata": {},
     "output_type": "execute_result"
    }
   ],
   "source": [
    "# logistic regression model, output: policies_sold\n",
    "logistic_s = LogisticRegression()\n",
    "logistic_s.fit(X_train,y_train['policies_sold'])\n",
    "\n",
    "#dectree = tree.DecisionTreeClassifier()             \n",
    "#dectree.fit(X_train, y_train)          \n",
    "\n",
    "#forest = RandomForestClassifier()\n",
    "#forest.fit(X_train, y_train)\n",
    "\n",
    "#knn = KNeighborsClassifier(n_neighbors = 2)\n",
    "#knn.fit(X_train,y_train)\n",
    "\n",
    "#svm = SVC(kernel = 'linear')\n",
    "#svm.fit(X_train,y_train)\n",
    "\n",
    "#voting_clf = VotingClassifier(\n",
    "                #[('lr',LogisticRegression()),\n",
    "                #('rf',RandomForestClassifier()),\n",
    "                #('svm',SVC()),\n",
    "                #('knn',KNeighborsClassifier())],\n",
    "                #voting = \"hard\")\n",
    "#voting_clf.fit(X_train,y_train)"
   ]
  },
  {
   "cell_type": "code",
   "execution_count": 72,
   "metadata": {},
   "outputs": [
    {
     "name": "stdout",
     "output_type": "stream",
     "text": [
      "Accuracy of Logistic regression classifier on test set: 92.15%\n"
     ]
    }
   ],
   "source": [
    "# accuracy for the policies_sold model\n",
    "logistic_s.predict(X_test)\n",
    "print('Accuracy of Logistic regression classifier on test set: {}%'.format(logistic_s.score(X_test, y_test['policies_sold'])*100))\n",
    "#print('Accuracy of Decision Tree  classifier on test set: {}%'.format(dectree.score(X_test, y_test)*100))\n",
    "#print('Accuracy of Random Forest classifier on test set {}%'.format(forest.score(X_test, y_test)*100))\n",
    "#print('Accuracy of KNN classifier on test set {}%'.format(knn.score(X_test, y_test)*100))\n",
    "#print('Accuracy of SVM classifier on test set {}%'.format(svm.score(X_test, y_test)*100))\n",
    "#print('Accuracy of Ensemble voting classifier on test set {}%'.format(voting_clf.score(X_test, y_test)*100))\n"
   ]
  },
  {
   "cell_type": "code",
   "execution_count": 85,
   "metadata": {},
   "outputs": [],
   "source": [
    "sold_prob = logistic_s.predict_proba(X_train)[:,1]"
   ]
  },
  {
   "cell_type": "code",
   "execution_count": 88,
   "metadata": {},
   "outputs": [],
   "source": [
    "#define new column\n",
    "sold_new = np.divide(sold_prob,click_prob)\n",
    "y_new = pd.DataFrame(sold_new)"
   ]
  },
  {
   "cell_type": "code",
   "execution_count": 92,
   "metadata": {},
   "outputs": [
    {
     "data": {
      "text/plain": [
       "LinearRegression()"
      ]
     },
     "execution_count": 92,
     "metadata": {},
     "output_type": "execute_result"
    }
   ],
   "source": [
    "# linear regression modeling for new column\n",
    "from sklearn.linear_model import LinearRegression\n",
    "reg = LinearRegression(copy_X = True)\n",
    "reg.fit(X_train, y_new)"
   ]
  },
  {
   "cell_type": "code",
   "execution_count": 101,
   "metadata": {},
   "outputs": [],
   "source": [
    "# prediction of sold_prob/click_prob for test set\n",
    "test_pre = reg.predict(X_test)\n",
    "# 2d array -> 1d array\n",
    "test_pre = test_pre.flatten()"
   ]
  },
  {
   "cell_type": "code",
   "execution_count": 129,
   "metadata": {},
   "outputs": [],
   "source": [
    "# sold_prob/click_prob calculated from two logistic model\n",
    "test_cal = np.divide(logistic_s.predict_proba(X_test)[:,1],logistic.predict_proba(X_test)[:,1])"
   ]
  },
  {
   "cell_type": "code",
   "execution_count": 151,
   "metadata": {},
   "outputs": [
    {
     "data": {
      "text/plain": [
       "0.00016367656330716596"
      ]
     },
     "execution_count": 151,
     "metadata": {},
     "output_type": "execute_result"
    }
   ],
   "source": [
    "#MSE\n",
    "diff =test_pre-test_cal\n",
    "np.power(np.linalg.norm(diff),2)/len(diff)"
   ]
  }
 ],
 "metadata": {
  "kernelspec": {
   "display_name": "Python 3",
   "language": "python",
   "name": "python3"
  },
  "language_info": {
   "codemirror_mode": {
    "name": "ipython",
    "version": 3
   },
   "file_extension": ".py",
   "mimetype": "text/x-python",
   "name": "python",
   "nbconvert_exporter": "python",
   "pygments_lexer": "ipython3",
   "version": "3.8.5"
  }
 },
 "nbformat": 4,
 "nbformat_minor": 4
}
