{
 "cells": [
  {
   "cell_type": "code",
   "execution_count": 1,
   "metadata": {},
   "outputs": [],
   "source": [
    "## For data handling\n",
    "import pandas as pd\n",
    "import numpy as np\n",
    "\n",
    "## For plotting\n",
    "import matplotlib.pyplot as plt\n",
    "import seaborn as sns\n",
    "\n",
    "## This sets the plot style\n",
    "## to have a grid on a white background\n",
    "sns.set_style(\"whitegrid\")"
   ]
  },
  {
   "cell_type": "code",
   "execution_count": 3,
   "metadata": {
    "scrolled": true
   },
   "outputs": [
    {
     "ename": "FileNotFoundError",
     "evalue": "[Errno 2] No such file or directory: 'Root_Insurance_data.csv'",
     "output_type": "error",
     "traceback": [
      "\u001b[0;31m---------------------------------------------------------------------------\u001b[0m",
      "\u001b[0;31mFileNotFoundError\u001b[0m                         Traceback (most recent call last)",
      "\u001b[0;32m<ipython-input-3-773d755324dd>\u001b[0m in \u001b[0;36m<module>\u001b[0;34m\u001b[0m\n\u001b[0;32m----> 1\u001b[0;31m \u001b[0mRI_data\u001b[0m \u001b[0;34m=\u001b[0m \u001b[0mpd\u001b[0m\u001b[0;34m.\u001b[0m\u001b[0mread_csv\u001b[0m\u001b[0;34m(\u001b[0m\u001b[0;34m'Root_Insurance_data.csv'\u001b[0m\u001b[0;34m)\u001b[0m\u001b[0;34m\u001b[0m\u001b[0;34m\u001b[0m\u001b[0m\n\u001b[0m",
      "\u001b[0;32m~/opt/anaconda3/lib/python3.8/site-packages/pandas/io/parsers.py\u001b[0m in \u001b[0;36mread_csv\u001b[0;34m(filepath_or_buffer, sep, delimiter, header, names, index_col, usecols, squeeze, prefix, mangle_dupe_cols, dtype, engine, converters, true_values, false_values, skipinitialspace, skiprows, skipfooter, nrows, na_values, keep_default_na, na_filter, verbose, skip_blank_lines, parse_dates, infer_datetime_format, keep_date_col, date_parser, dayfirst, cache_dates, iterator, chunksize, compression, thousands, decimal, lineterminator, quotechar, quoting, doublequote, escapechar, comment, encoding, dialect, error_bad_lines, warn_bad_lines, delim_whitespace, low_memory, memory_map, float_precision)\u001b[0m\n\u001b[1;32m    684\u001b[0m     )\n\u001b[1;32m    685\u001b[0m \u001b[0;34m\u001b[0m\u001b[0m\n\u001b[0;32m--> 686\u001b[0;31m     \u001b[0;32mreturn\u001b[0m \u001b[0m_read\u001b[0m\u001b[0;34m(\u001b[0m\u001b[0mfilepath_or_buffer\u001b[0m\u001b[0;34m,\u001b[0m \u001b[0mkwds\u001b[0m\u001b[0;34m)\u001b[0m\u001b[0;34m\u001b[0m\u001b[0;34m\u001b[0m\u001b[0m\n\u001b[0m\u001b[1;32m    687\u001b[0m \u001b[0;34m\u001b[0m\u001b[0m\n\u001b[1;32m    688\u001b[0m \u001b[0;34m\u001b[0m\u001b[0m\n",
      "\u001b[0;32m~/opt/anaconda3/lib/python3.8/site-packages/pandas/io/parsers.py\u001b[0m in \u001b[0;36m_read\u001b[0;34m(filepath_or_buffer, kwds)\u001b[0m\n\u001b[1;32m    450\u001b[0m \u001b[0;34m\u001b[0m\u001b[0m\n\u001b[1;32m    451\u001b[0m     \u001b[0;31m# Create the parser.\u001b[0m\u001b[0;34m\u001b[0m\u001b[0;34m\u001b[0m\u001b[0;34m\u001b[0m\u001b[0m\n\u001b[0;32m--> 452\u001b[0;31m     \u001b[0mparser\u001b[0m \u001b[0;34m=\u001b[0m \u001b[0mTextFileReader\u001b[0m\u001b[0;34m(\u001b[0m\u001b[0mfp_or_buf\u001b[0m\u001b[0;34m,\u001b[0m \u001b[0;34m**\u001b[0m\u001b[0mkwds\u001b[0m\u001b[0;34m)\u001b[0m\u001b[0;34m\u001b[0m\u001b[0;34m\u001b[0m\u001b[0m\n\u001b[0m\u001b[1;32m    453\u001b[0m \u001b[0;34m\u001b[0m\u001b[0m\n\u001b[1;32m    454\u001b[0m     \u001b[0;32mif\u001b[0m \u001b[0mchunksize\u001b[0m \u001b[0;32mor\u001b[0m \u001b[0miterator\u001b[0m\u001b[0;34m:\u001b[0m\u001b[0;34m\u001b[0m\u001b[0;34m\u001b[0m\u001b[0m\n",
      "\u001b[0;32m~/opt/anaconda3/lib/python3.8/site-packages/pandas/io/parsers.py\u001b[0m in \u001b[0;36m__init__\u001b[0;34m(self, f, engine, **kwds)\u001b[0m\n\u001b[1;32m    944\u001b[0m             \u001b[0mself\u001b[0m\u001b[0;34m.\u001b[0m\u001b[0moptions\u001b[0m\u001b[0;34m[\u001b[0m\u001b[0;34m\"has_index_names\"\u001b[0m\u001b[0;34m]\u001b[0m \u001b[0;34m=\u001b[0m \u001b[0mkwds\u001b[0m\u001b[0;34m[\u001b[0m\u001b[0;34m\"has_index_names\"\u001b[0m\u001b[0;34m]\u001b[0m\u001b[0;34m\u001b[0m\u001b[0;34m\u001b[0m\u001b[0m\n\u001b[1;32m    945\u001b[0m \u001b[0;34m\u001b[0m\u001b[0m\n\u001b[0;32m--> 946\u001b[0;31m         \u001b[0mself\u001b[0m\u001b[0;34m.\u001b[0m\u001b[0m_make_engine\u001b[0m\u001b[0;34m(\u001b[0m\u001b[0mself\u001b[0m\u001b[0;34m.\u001b[0m\u001b[0mengine\u001b[0m\u001b[0;34m)\u001b[0m\u001b[0;34m\u001b[0m\u001b[0;34m\u001b[0m\u001b[0m\n\u001b[0m\u001b[1;32m    947\u001b[0m \u001b[0;34m\u001b[0m\u001b[0m\n\u001b[1;32m    948\u001b[0m     \u001b[0;32mdef\u001b[0m \u001b[0mclose\u001b[0m\u001b[0;34m(\u001b[0m\u001b[0mself\u001b[0m\u001b[0;34m)\u001b[0m\u001b[0;34m:\u001b[0m\u001b[0;34m\u001b[0m\u001b[0;34m\u001b[0m\u001b[0m\n",
      "\u001b[0;32m~/opt/anaconda3/lib/python3.8/site-packages/pandas/io/parsers.py\u001b[0m in \u001b[0;36m_make_engine\u001b[0;34m(self, engine)\u001b[0m\n\u001b[1;32m   1176\u001b[0m     \u001b[0;32mdef\u001b[0m \u001b[0m_make_engine\u001b[0m\u001b[0;34m(\u001b[0m\u001b[0mself\u001b[0m\u001b[0;34m,\u001b[0m \u001b[0mengine\u001b[0m\u001b[0;34m=\u001b[0m\u001b[0;34m\"c\"\u001b[0m\u001b[0;34m)\u001b[0m\u001b[0;34m:\u001b[0m\u001b[0;34m\u001b[0m\u001b[0;34m\u001b[0m\u001b[0m\n\u001b[1;32m   1177\u001b[0m         \u001b[0;32mif\u001b[0m \u001b[0mengine\u001b[0m \u001b[0;34m==\u001b[0m \u001b[0;34m\"c\"\u001b[0m\u001b[0;34m:\u001b[0m\u001b[0;34m\u001b[0m\u001b[0;34m\u001b[0m\u001b[0m\n\u001b[0;32m-> 1178\u001b[0;31m             \u001b[0mself\u001b[0m\u001b[0;34m.\u001b[0m\u001b[0m_engine\u001b[0m \u001b[0;34m=\u001b[0m \u001b[0mCParserWrapper\u001b[0m\u001b[0;34m(\u001b[0m\u001b[0mself\u001b[0m\u001b[0;34m.\u001b[0m\u001b[0mf\u001b[0m\u001b[0;34m,\u001b[0m \u001b[0;34m**\u001b[0m\u001b[0mself\u001b[0m\u001b[0;34m.\u001b[0m\u001b[0moptions\u001b[0m\u001b[0;34m)\u001b[0m\u001b[0;34m\u001b[0m\u001b[0;34m\u001b[0m\u001b[0m\n\u001b[0m\u001b[1;32m   1179\u001b[0m         \u001b[0;32melse\u001b[0m\u001b[0;34m:\u001b[0m\u001b[0;34m\u001b[0m\u001b[0;34m\u001b[0m\u001b[0m\n\u001b[1;32m   1180\u001b[0m             \u001b[0;32mif\u001b[0m \u001b[0mengine\u001b[0m \u001b[0;34m==\u001b[0m \u001b[0;34m\"python\"\u001b[0m\u001b[0;34m:\u001b[0m\u001b[0;34m\u001b[0m\u001b[0;34m\u001b[0m\u001b[0m\n",
      "\u001b[0;32m~/opt/anaconda3/lib/python3.8/site-packages/pandas/io/parsers.py\u001b[0m in \u001b[0;36m__init__\u001b[0;34m(self, src, **kwds)\u001b[0m\n\u001b[1;32m   2006\u001b[0m         \u001b[0mkwds\u001b[0m\u001b[0;34m[\u001b[0m\u001b[0;34m\"usecols\"\u001b[0m\u001b[0;34m]\u001b[0m \u001b[0;34m=\u001b[0m \u001b[0mself\u001b[0m\u001b[0;34m.\u001b[0m\u001b[0musecols\u001b[0m\u001b[0;34m\u001b[0m\u001b[0;34m\u001b[0m\u001b[0m\n\u001b[1;32m   2007\u001b[0m \u001b[0;34m\u001b[0m\u001b[0m\n\u001b[0;32m-> 2008\u001b[0;31m         \u001b[0mself\u001b[0m\u001b[0;34m.\u001b[0m\u001b[0m_reader\u001b[0m \u001b[0;34m=\u001b[0m \u001b[0mparsers\u001b[0m\u001b[0;34m.\u001b[0m\u001b[0mTextReader\u001b[0m\u001b[0;34m(\u001b[0m\u001b[0msrc\u001b[0m\u001b[0;34m,\u001b[0m \u001b[0;34m**\u001b[0m\u001b[0mkwds\u001b[0m\u001b[0;34m)\u001b[0m\u001b[0;34m\u001b[0m\u001b[0;34m\u001b[0m\u001b[0m\n\u001b[0m\u001b[1;32m   2009\u001b[0m         \u001b[0mself\u001b[0m\u001b[0;34m.\u001b[0m\u001b[0munnamed_cols\u001b[0m \u001b[0;34m=\u001b[0m \u001b[0mself\u001b[0m\u001b[0;34m.\u001b[0m\u001b[0m_reader\u001b[0m\u001b[0;34m.\u001b[0m\u001b[0munnamed_cols\u001b[0m\u001b[0;34m\u001b[0m\u001b[0;34m\u001b[0m\u001b[0m\n\u001b[1;32m   2010\u001b[0m \u001b[0;34m\u001b[0m\u001b[0m\n",
      "\u001b[0;32mpandas/_libs/parsers.pyx\u001b[0m in \u001b[0;36mpandas._libs.parsers.TextReader.__cinit__\u001b[0;34m()\u001b[0m\n",
      "\u001b[0;32mpandas/_libs/parsers.pyx\u001b[0m in \u001b[0;36mpandas._libs.parsers.TextReader._setup_parser_source\u001b[0;34m()\u001b[0m\n",
      "\u001b[0;31mFileNotFoundError\u001b[0m: [Errno 2] No such file or directory: 'Root_Insurance_data.csv'"
     ]
    }
   ],
   "source": [
    "RI_data = pd.read_csv('Root_Insurance_data.csv')"
   ]
  },
  {
   "cell_type": "code",
   "execution_count": 151,
   "metadata": {},
   "outputs": [
    {
     "data": {
      "text/plain": [
       "['Currently Insured',\n",
       " 'Number of Vehicles',\n",
       " 'Number of Drivers',\n",
       " 'Marital Status',\n",
       " 'bid',\n",
       " 'rank',\n",
       " 'click',\n",
       " 'policies_sold']"
      ]
     },
     "execution_count": 151,
     "metadata": {},
     "output_type": "execute_result"
    }
   ],
   "source": [
    "column_list = list(RI_data.columns)\n",
    "column_list"
   ]
  },
  {
   "cell_type": "code",
   "execution_count": 152,
   "metadata": {},
   "outputs": [
    {
     "name": "stdout",
     "output_type": "stream",
     "text": [
      "{'Currently Insured': ['N', 'Y', 'unknown'], 'Number of Vehicles': [2, 1, 3], 'Number of Drivers': [1, 2], 'Marital Status': ['M', 'S'], 'bid': [10.0], 'rank': [3, 5, 4, 1, 2], 'click': [False, True], 'policies_sold': [0, 1]}\n"
     ]
    }
   ],
   "source": [
    "cate_list = {}\n",
    "\n",
    "for column in column_list:\n",
    "    X = RI_data[column].value_counts()\n",
    "    cate_list[column] = list((X.index))\n",
    "    \n",
    "print(cate_list)"
   ]
  },
  {
   "cell_type": "code",
   "execution_count": 153,
   "metadata": {},
   "outputs": [],
   "source": [
    "for column in column_list[:4]:\n",
    "    for category in cate_list[column]:\n",
    "        RI_data[str(column)+str(category)] = pd.get_dummies(RI_data[column])[category]"
   ]
  },
  {
   "cell_type": "code",
   "execution_count": 199,
   "metadata": {},
   "outputs": [
    {
     "name": "stdout",
     "output_type": "stream",
     "text": [
      "Currently InsuredN Number of Vehicles2 Number of Drivers1 Marital StatusM\n",
      "False    248\n",
      "True      15\n",
      "Name: click, dtype: int64\n",
      "0    257\n",
      "1      6\n",
      "Name: policies_sold, dtype: int64\n",
      "Currently InsuredN Number of Vehicles2 Number of Drivers1 Marital StatusS\n",
      "False    256\n",
      "True      16\n",
      "Name: click, dtype: int64\n",
      "0    267\n",
      "1      5\n",
      "Name: policies_sold, dtype: int64\n",
      "Currently InsuredN Number of Vehicles2 Number of Drivers2 Marital StatusM\n",
      "False    263\n",
      "True      33\n",
      "Name: click, dtype: int64\n",
      "0    281\n",
      "1     15\n",
      "Name: policies_sold, dtype: int64\n",
      "Currently InsuredN Number of Vehicles2 Number of Drivers2 Marital StatusS\n",
      "False    284\n",
      "True      32\n",
      "Name: click, dtype: int64\n",
      "0    301\n",
      "1     15\n",
      "Name: policies_sold, dtype: int64\n",
      "Currently InsuredN Number of Vehicles1 Number of Drivers1 Marital StatusM\n",
      "False    275\n",
      "True      25\n",
      "Name: click, dtype: int64\n",
      "0    286\n",
      "1     14\n",
      "Name: policies_sold, dtype: int64\n",
      "Currently InsuredN Number of Vehicles1 Number of Drivers1 Marital StatusS\n",
      "False    228\n",
      "True      43\n",
      "Name: click, dtype: int64\n",
      "0    246\n",
      "1     25\n",
      "Name: policies_sold, dtype: int64\n",
      "Currently InsuredN Number of Vehicles1 Number of Drivers2 Marital StatusM\n",
      "False    201\n",
      "True      74\n",
      "Name: click, dtype: int64\n",
      "0    244\n",
      "1     31\n",
      "Name: policies_sold, dtype: int64\n",
      "Currently InsuredN Number of Vehicles1 Number of Drivers2 Marital StatusS\n",
      "False    204\n",
      "True      79\n",
      "Name: click, dtype: int64\n",
      "0    251\n",
      "1     32\n",
      "Name: policies_sold, dtype: int64\n",
      "Currently InsuredN Number of Vehicles3 Number of Drivers1 Marital StatusM\n",
      "False    250\n",
      "True      15\n",
      "Name: click, dtype: int64\n",
      "0    256\n",
      "1      9\n",
      "Name: policies_sold, dtype: int64\n",
      "Currently InsuredN Number of Vehicles3 Number of Drivers1 Marital StatusS\n",
      "False    264\n",
      "True      22\n",
      "Name: click, dtype: int64\n",
      "0    278\n",
      "1      8\n",
      "Name: policies_sold, dtype: int64\n",
      "Currently InsuredN Number of Vehicles3 Number of Drivers2 Marital StatusM\n",
      "False    305\n",
      "True      21\n",
      "Name: click, dtype: int64\n",
      "0    315\n",
      "1     11\n",
      "Name: policies_sold, dtype: int64\n",
      "Currently InsuredN Number of Vehicles3 Number of Drivers2 Marital StatusS\n",
      "False    278\n",
      "True      13\n",
      "Name: click, dtype: int64\n",
      "0    288\n",
      "1      3\n",
      "Name: policies_sold, dtype: int64\n",
      "Currently InsuredY Number of Vehicles2 Number of Drivers1 Marital StatusM\n",
      "False    265\n",
      "True      19\n",
      "Name: click, dtype: int64\n",
      "0    278\n",
      "1      6\n",
      "Name: policies_sold, dtype: int64\n",
      "Currently InsuredY Number of Vehicles2 Number of Drivers1 Marital StatusS\n",
      "False    251\n",
      "True      15\n",
      "Name: click, dtype: int64\n",
      "0    262\n",
      "1      4\n",
      "Name: policies_sold, dtype: int64\n",
      "Currently InsuredY Number of Vehicles2 Number of Drivers2 Marital StatusM\n",
      "False    296\n",
      "True      21\n",
      "Name: click, dtype: int64\n",
      "0    309\n",
      "1      8\n",
      "Name: policies_sold, dtype: int64\n",
      "Currently InsuredY Number of Vehicles2 Number of Drivers2 Marital StatusS\n",
      "False    288\n",
      "True      16\n",
      "Name: click, dtype: int64\n",
      "0    301\n",
      "1      3\n",
      "Name: policies_sold, dtype: int64\n",
      "Currently InsuredY Number of Vehicles1 Number of Drivers1 Marital StatusM\n",
      "False    237\n",
      "True      37\n",
      "Name: click, dtype: int64\n",
      "0    263\n",
      "1     11\n",
      "Name: policies_sold, dtype: int64\n",
      "Currently InsuredY Number of Vehicles1 Number of Drivers1 Marital StatusS\n",
      "False    212\n",
      "True      78\n",
      "Name: click, dtype: int64\n",
      "0    252\n",
      "1     38\n",
      "Name: policies_sold, dtype: int64\n",
      "Currently InsuredY Number of Vehicles1 Number of Drivers2 Marital StatusM\n",
      "False    219\n",
      "True      76\n",
      "Name: click, dtype: int64\n",
      "0    271\n",
      "1     24\n",
      "Name: policies_sold, dtype: int64\n",
      "Currently InsuredY Number of Vehicles1 Number of Drivers2 Marital StatusS\n",
      "False    205\n",
      "True      77\n",
      "Name: click, dtype: int64\n",
      "0    258\n",
      "1     24\n",
      "Name: policies_sold, dtype: int64\n",
      "Currently InsuredY Number of Vehicles3 Number of Drivers1 Marital StatusM\n",
      "False    273\n",
      "True      21\n",
      "Name: click, dtype: int64\n",
      "0    290\n",
      "1      4\n",
      "Name: policies_sold, dtype: int64\n",
      "Currently InsuredY Number of Vehicles3 Number of Drivers1 Marital StatusS\n",
      "False    243\n",
      "True      24\n",
      "Name: click, dtype: int64\n",
      "0    262\n",
      "1      5\n",
      "Name: policies_sold, dtype: int64\n",
      "Currently InsuredY Number of Vehicles3 Number of Drivers2 Marital StatusM\n",
      "False    258\n",
      "True      18\n",
      "Name: click, dtype: int64\n",
      "0    274\n",
      "1      2\n",
      "Name: policies_sold, dtype: int64\n",
      "Currently InsuredY Number of Vehicles3 Number of Drivers2 Marital StatusS\n",
      "False    259\n",
      "True      11\n",
      "Name: click, dtype: int64\n",
      "0    266\n",
      "1      4\n",
      "Name: policies_sold, dtype: int64\n",
      "Currently Insuredunknown Number of Vehicles2 Number of Drivers1 Marital StatusM\n",
      "False    184\n",
      "True      84\n",
      "Name: click, dtype: int64\n",
      "0    227\n",
      "1     41\n",
      "Name: policies_sold, dtype: int64\n",
      "Currently Insuredunknown Number of Vehicles2 Number of Drivers1 Marital StatusS\n",
      "False    176\n",
      "True     108\n",
      "Name: click, dtype: int64\n",
      "0    240\n",
      "1     44\n",
      "Name: policies_sold, dtype: int64\n",
      "Currently Insuredunknown Number of Vehicles2 Number of Drivers2 Marital StatusM\n",
      "False    212\n",
      "True      94\n",
      "Name: click, dtype: int64\n",
      "0    280\n",
      "1     26\n",
      "Name: policies_sold, dtype: int64\n",
      "Currently Insuredunknown Number of Vehicles2 Number of Drivers2 Marital StatusS\n",
      "False    178\n",
      "True     110\n",
      "Name: click, dtype: int64\n",
      "0    246\n",
      "1     42\n",
      "Name: policies_sold, dtype: int64\n",
      "Currently Insuredunknown Number of Vehicles1 Number of Drivers1 Marital StatusM\n",
      "False    182\n",
      "True     112\n",
      "Name: click, dtype: int64\n",
      "0    235\n",
      "1     59\n",
      "Name: policies_sold, dtype: int64\n",
      "Currently Insuredunknown Number of Vehicles1 Number of Drivers1 Marital StatusS\n",
      "False    153\n",
      "True     127\n",
      "Name: click, dtype: int64\n",
      "0    211\n",
      "1     69\n",
      "Name: policies_sold, dtype: int64\n",
      "Currently Insuredunknown Number of Vehicles1 Number of Drivers2 Marital StatusM\n",
      "False    189\n",
      "True     105\n",
      "Name: click, dtype: int64\n",
      "0    237\n",
      "1     57\n",
      "Name: policies_sold, dtype: int64\n",
      "Currently Insuredunknown Number of Vehicles1 Number of Drivers2 Marital StatusS\n",
      "False    175\n",
      "True     128\n",
      "Name: click, dtype: int64\n",
      "0    248\n",
      "1     55\n",
      "Name: policies_sold, dtype: int64\n",
      "Currently Insuredunknown Number of Vehicles3 Number of Drivers1 Marital StatusM\n",
      "False    218\n",
      "True      69\n",
      "Name: click, dtype: int64\n",
      "0    262\n",
      "1     25\n",
      "Name: policies_sold, dtype: int64\n",
      "Currently Insuredunknown Number of Vehicles3 Number of Drivers1 Marital StatusS\n",
      "False    189\n",
      "True      67\n",
      "Name: click, dtype: int64\n",
      "0    230\n",
      "1     26\n",
      "Name: policies_sold, dtype: int64\n",
      "Currently Insuredunknown Number of Vehicles3 Number of Drivers2 Marital StatusM\n",
      "False    204\n",
      "True      73\n",
      "Name: click, dtype: int64\n",
      "0    245\n",
      "1     32\n",
      "Name: policies_sold, dtype: int64\n",
      "Currently Insuredunknown Number of Vehicles3 Number of Drivers2 Marital StatusS\n",
      "Series([], Name: click, dtype: int64)\n",
      "Series([], Name: policies_sold, dtype: int64)\n"
     ]
    },
    {
     "data": {
      "text/plain": [
       "[0.057034220532319393,\n",
       " 0.058823529411764705,\n",
       " 0.11148648648648649,\n",
       " 0.10126582278481013,\n",
       " 0.08333333333333333,\n",
       " 0.15867158671586715,\n",
       " 0.2690909090909091,\n",
       " 0.2791519434628975,\n",
       " 0.05660377358490566,\n",
       " 0.07692307692307693,\n",
       " 0.06441717791411043,\n",
       " 0.044673539518900345,\n",
       " 0.06690140845070422,\n",
       " 0.05639097744360902,\n",
       " 0.06624605678233439,\n",
       " 0.05263157894736842,\n",
       " 0.13503649635036497,\n",
       " 0.2689655172413793,\n",
       " 0.2576271186440678,\n",
       " 0.2730496453900709,\n",
       " 0.07142857142857142,\n",
       " 0.0898876404494382,\n",
       " 0.06521739130434782,\n",
       " 0.040740740740740744,\n",
       " 0.31343283582089554,\n",
       " 0.38028169014084506,\n",
       " 0.30718954248366015,\n",
       " 0.3819444444444444,\n",
       " 0.38095238095238093,\n",
       " 0.45357142857142857,\n",
       " 0.35714285714285715,\n",
       " 0.42244224422442245,\n",
       " 0.24041811846689895,\n",
       " 0.26171875,\n",
       " 0.26353790613718414,\n",
       " 0.26353790613718414]"
      ]
     },
     "execution_count": 199,
     "metadata": {},
     "output_type": "execute_result"
    }
   ],
   "source": [
    "dums = list(RI_data.columns)[8:]\n",
    "cratios = []\n",
    "sratios = []\n",
    "for i in range(3):\n",
    "    for i1 in range(3,6):\n",
    "        for i2 in range(6,8):\n",
    "            for i3 in range(8,10):\n",
    "               print(dums[i], dums[i1], dums[i2], dums[i3])\n",
    "               data_temp = RI_data.loc[(RI_data[dums[i]]==1) & (RI_data[dums[i1]]==1)& (RI_data[dums[i2]]==1)& (RI_data[dums[i3]]==1), ['rank','click','policies_sold']]\n",
    "               click = data_temp['click'].value_counts()\n",
    "               print(click)\n",
    "               sold = data_temp['policies_sold'].value_counts()\n",
    "               print(sold)\n",
    "               if len(click)==2:\n",
    "                    click_ratio = click[1]/(click[1]+click[0])\n",
    "               if len(sold)==2:\n",
    "                    sold_ratio = sold[1]/click[1]\n",
    "               cratios.append(click_ratio)\n",
    "               sratios.append(sold_ratio)\n",
    "       \n"
   ]
  },
  {
   "cell_type": "code",
   "execution_count": 200,
   "metadata": {},
   "outputs": [
    {
     "data": {
      "text/plain": [
       "<matplotlib.collections.PathCollection at 0x1a9a43b43d0>"
      ]
     },
     "execution_count": 200,
     "metadata": {},
     "output_type": "execute_result"
    },
    {
     "data": {
      "image/png": "[encoded data removed]",
      "text/plain": [
       "<Figure size 432x288 with 1 Axes>"
      ]
     },
     "metadata": {},
     "output_type": "display_data"
    }
   ],
   "source": [
    "plt.scatter(cratios, sratios)"
   ]
  },
  {
   "cell_type": "markdown",
   "metadata": {},
   "source": [
    "# end here"
   ]
  },
  {
   "cell_type": "code",
   "execution_count": 103,
   "metadata": {},
   "outputs": [
    {
     "data": {
      "text/plain": [
       "'click'"
      ]
     },
     "execution_count": 103,
     "metadata": {},
     "output_type": "execute_result"
    }
   ],
   "source": [
    "type_list = list(RI_data.columns)\n",
    "type_list.pop(-1)\n",
    "type_list.pop(-1)"
   ]
  },
  {
   "cell_type": "code",
   "execution_count": 109,
   "metadata": {},
   "outputs": [
    {
     "data": {
      "text/plain": [
       "0.0783"
      ]
     },
     "execution_count": 109,
     "metadata": {},
     "output_type": "execute_result"
    }
   ],
   "source": [
    "a = RI_data['policies_sold'].value_counts()\n",
    "a[1]/(a[0]+a[1])"
   ]
  },
  {
   "cell_type": "code",
   "execution_count": 115,
   "metadata": {},
   "outputs": [
    {
     "data": {
      "text/plain": [
       "0.4169329073482428"
      ]
     },
     "execution_count": 115,
     "metadata": {},
     "output_type": "execute_result"
    }
   ],
   "source": [
    "a = RI_data.loc[RI_data['click'] == True, 'policies_sold'].value_counts()\n",
    "a[1]/(a[0]+a[1])"
   ]
  },
  {
   "cell_type": "code",
   "execution_count": 107,
   "metadata": {},
   "outputs": [
    {
     "name": "stdout",
     "output_type": "stream",
     "text": [
      "[{'N': 0.050522648083623695, 'Y': 0.038900263234863994, 'unknown': 0.15173732865795345}, {2: 0.062066974595842955, 1: 0.12757919209532112, 3: 0.04168012924071082}, {1: 0.07978404319136173, 2: 0.07681536307261452}, {'M': 0.07339626276247352, 'S': 0.08359326263256395}, {10.0: 0.0783}, {3: 0.05747605164514785, 5: 0.008729812309035356, 4: 0.027764480612733365, 1: 0.2222222222222222, 2: 0.12997512437810946}]\n"
     ]
    }
   ],
   "source": [
    "   result = []\n",
    "for types in type_list:\n",
    "    types_dic = {}\n",
    "    X = RI_data[types].value_counts()\n",
    "    Y = list(X.index)\n",
    "    for index in Y:\n",
    "        a = RI_data.loc[RI_data[types]==index, 'policies_sold' ].value_counts()\n",
    "        b = a[1]/(a[0]+a[1])\n",
    "        types_dic[index] = b\n",
    "    result.append(types_dic)\n",
    "print(result)"
   ]
  },
  {
   "cell_type": "code",
   "execution_count": 116,
   "metadata": {},
   "outputs": [
    {
     "name": "stdout",
     "output_type": "stream",
     "text": [
      "[{'N': 0.050522648083623695, 'Y': 0.038900263234863994, 'unknown': 0.15173732865795345}, {2: 0.062066974595842955, 1: 0.12757919209532112, 3: 0.04168012924071082}, {1: 0.07978404319136173, 2: 0.07681536307261452}, {'M': 0.07339626276247352, 'S': 0.08359326263256395}, {10.0: 0.0783}, {3: 0.05747605164514785, 5: 0.008729812309035356, 4: 0.027764480612733365, 1: 0.2222222222222222, 2: 0.12997512437810946}, {'N': 0.11265969802555169, 'Y': 0.12079555425563031, 'unknown': 0.3433216448836468}, {2: 0.16252886836027713, 1: 0.27927927927927926, 3: 0.11437802907915993}, {1: 0.1793641271745651, 2: 0.19623924784956992}, {'M': 0.17568869196686573, 'S': 0.20087336244541484}, {10.0: 0.1878}, {3: 0.14618908788004997, 5: 0.02138804015713662, 4: 0.08042125418860699, 1: 0.526381129733085, 2: 0.2873134328358209}]\n"
     ]
    }
   ],
   "source": [
    " result_click = []\n",
    "for types in type_list:\n",
    "    types_dic = {}\n",
    "    X = RI_data[types].value_counts()\n",
    "    Y = list(X.index)\n",
    "    for index in Y:\n",
    "        a = RI_data.loc[RI_data[types]==index, 'click' ].value_counts()\n",
    "        b = a[1]/(a[0]+a[1])\n",
    "        types_dic[index] = b\n",
    "    result.append(types_dic)\n",
    "print(result)"
   ]
  }
 ],
 "metadata": {
  "kernelspec": {
   "display_name": "Python 3",
   "language": "python",
   "name": "python3"
  },
  "language_info": {
   "codemirror_mode": {
    "name": "ipython",
    "version": 3
   },
   "file_extension": ".py",
   "mimetype": "text/x-python",
   "name": "python",
   "nbconvert_exporter": "python",
   "pygments_lexer": "ipython3",
   "version": "3.8.5"
  }
 },
 "nbformat": 4,
 "nbformat_minor": 4
}
